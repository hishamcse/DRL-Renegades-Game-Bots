{
 "cells": [
  {
   "cell_type": "markdown",
   "id": "2d376495",
   "metadata": {
    "papermill": {
     "duration": 0.022289,
     "end_time": "2024-06-19T08:05:30.863685",
     "exception": false,
     "start_time": "2024-06-19T08:05:30.841396",
     "status": "completed"
    },
    "tags": []
   },
   "source": [
    "# DDPG & DDPGfD\n",
    "\n",
    "DDPG - Deep Deterministic Policy Gradient <br>\n",
    "DDPGfD - Deep Deterministic Policy Gradient from Demonstration\n"
   ]
  },
  {
   "cell_type": "markdown",
   "id": "455d5dd2",
   "metadata": {
    "papermill": {
     "duration": 0.023244,
     "end_time": "2024-06-19T08:05:30.908874",
     "exception": false,
     "start_time": "2024-06-19T08:05:30.885630",
     "status": "completed"
    },
    "tags": []
   },
   "source": [
    "## Create a virtual display 🖥"
   ]
  },
  {
   "cell_type": "markdown",
   "id": "a8115ff3",
   "metadata": {
    "papermill": {
     "duration": 0.021187,
     "end_time": "2024-06-19T08:05:30.951740",
     "exception": false,
     "start_time": "2024-06-19T08:05:30.930553",
     "status": "completed"
    },
    "tags": []
   },
   "source": [
    "During the notebook, we'll need to generate a replay video. To do so, with colab, **we need to have a virtual screen to be able to render the environment** (and thus record the frames).\n",
    "\n",
    "Hence the following cell will install the librairies and create and run a virtual screen 🖥"
   ]
  },
  {
   "cell_type": "code",
   "execution_count": 1,
   "id": "52042e95",
   "metadata": {
    "_kg_hide-output": true,
    "collapsed": true,
    "execution": {
     "iopub.execute_input": "2024-06-19T08:05:30.997281Z",
     "iopub.status.busy": "2024-06-19T08:05:30.996762Z",
     "iopub.status.idle": "2024-06-19T08:07:28.826026Z",
     "shell.execute_reply": "2024-06-19T08:07:28.824528Z"
    },
    "jupyter": {
     "outputs_hidden": true
    },
    "papermill": {
     "duration": 117.855005,
     "end_time": "2024-06-19T08:07:28.828760",
     "exception": false,
     "start_time": "2024-06-19T08:05:30.973755",
     "status": "completed"
    },
    "tags": []
   },
   "outputs": [
    {
     "name": "stdout",
     "output_type": "stream",
     "text": [
      "\r\n",
      "\r\n",
      "\r\n",
      "cmake is already the newest version (3.16.3-1ubuntu1.20.04.1).\r\n",
      "Suggested packages:\r\n",
      "  swig-doc swig-examples swig4.0-examples swig4.0-doc\r\n",
      "The following NEW packages will be installed:\r\n",
      "  swig swig4.0\r\n",
      "0 upgraded, 2 newly installed, 0 to remove and 64 not upgraded.\r\n",
      "Need to get 1086 kB of archives.\r\n",
      "After this operation, 5413 kB of additional disk space will be used.\r\n",
      "Get:1 http://archive.ubuntu.com/ubuntu focal/universe amd64 swig4.0 amd64 4.0.1-5build1 [1081 kB]\r\n",
      "Get:2 http://archive.ubuntu.com/ubuntu focal/universe amd64 swig all 4.0.1-5build1 [5528 B]\r\n",
      "Fetched 1086 kB in 2s (589 kB/s)\r\n",
      "\n",
      "\u001b7\u001b[0;23r\u001b8\u001b[1ASelecting previously unselected package swig4.0.\r\n",
      "(Reading database ... 110195 files and directories currently installed.)\r\n",
      "Preparing to unpack .../swig4.0_4.0.1-5build1_amd64.deb ...\r\n",
      "\u001b7\u001b[24;0f\u001b[42m\u001b[30mProgress: [  0%]\u001b[49m\u001b[39m [..........................................................] \u001b8\u001b7\u001b[24;0f\u001b[42m\u001b[30mProgress: [ 11%]\u001b[49m\u001b[39m [######....................................................] \u001b8Unpacking swig4.0 (4.0.1-5build1) ...\r\n",
      "\u001b7\u001b[24;0f\u001b[42m\u001b[30mProgress: [ 22%]\u001b[49m\u001b[39m [############..............................................] \u001b8Selecting previously unselected package swig.\r\n",
      "Preparing to unpack .../swig_4.0.1-5build1_all.deb ...\r\n",
      "\u001b7\u001b[24;0f\u001b[42m\u001b[30mProgress: [ 33%]\u001b[49m\u001b[39m [###################.......................................] \u001b8Unpacking swig (4.0.1-5build1) ...\r\n",
      "\u001b7\u001b[24;0f\u001b[42m\u001b[30mProgress: [ 44%]\u001b[49m\u001b[39m [#########################.................................] \u001b8Setting up swig4.0 (4.0.1-5build1) ...\r\n",
      "\u001b7\u001b[24;0f\u001b[42m\u001b[30mProgress: [ 56%]\u001b[49m\u001b[39m [################################..........................] \u001b8\u001b7\u001b[24;0f\u001b[42m\u001b[30mProgress: [ 67%]\u001b[49m\u001b[39m [######################################....................] \u001b8Setting up swig (4.0.1-5build1) ...\r\n",
      "\u001b7\u001b[24;0f\u001b[42m\u001b[30mProgress: [ 78%]\u001b[49m\u001b[39m [#############################################.............] \u001b8\u001b7\u001b[24;0f\u001b[42m\u001b[30mProgress: [ 89%]\u001b[49m\u001b[39m [###################################################.......] \u001b8Processing triggers for man-db (2.9.1-1) ...\r\n",
      "\r\n",
      "\u001b7\u001b[0;24r\u001b8\u001b[1A\u001b[JCollecting swig\r\n",
      "  Downloading swig-4.2.1-py2.py3-none-manylinux_2_5_x86_64.manylinux1_x86_64.whl.metadata (3.6 kB)\r\n",
      "Downloading swig-4.2.1-py2.py3-none-manylinux_2_5_x86_64.manylinux1_x86_64.whl (1.9 MB)\r\n",
      "\u001b[2K   \u001b[90m━━━━━━━━━━━━━━━━━━━━━━━━━━━━━━━━━━━━━━━━\u001b[0m \u001b[32m1.9/1.9 MB\u001b[0m \u001b[31m18.6 MB/s\u001b[0m eta \u001b[36m0:00:00\u001b[0m\r\n",
      "\u001b[?25hInstalling collected packages: swig\r\n",
      "Successfully installed swig-4.2.1\r\n",
      "Get:1 https://packages.cloud.google.com/apt gcsfuse-focal InRelease [1225 B]\r\n",
      "Get:2 https://packages.cloud.google.com/apt cloud-sdk InRelease [1616 B]\r\n",
      "Hit:3 http://archive.ubuntu.com/ubuntu focal InRelease\r\n",
      "Get:4 http://security.ubuntu.com/ubuntu focal-security InRelease [128 kB]\r\n",
      "Get:5 https://packages.cloud.google.com/apt cloud-sdk/main amd64 Packages [3053 kB]\r\n",
      "Get:6 http://archive.ubuntu.com/ubuntu focal-updates InRelease [128 kB]\r\n",
      "Get:7 https://packages.cloud.google.com/apt cloud-sdk/main all Packages [1464 kB]\r\n",
      "Hit:8 http://archive.ubuntu.com/ubuntu focal-backports InRelease\r\n",
      "Get:9 http://archive.ubuntu.com/ubuntu focal-updates/main amd64 Packages [4182 kB]\r\n",
      "Get:10 http://security.ubuntu.com/ubuntu focal-security/main amd64 Packages [3710 kB]\r\n",
      "Get:11 http://archive.ubuntu.com/ubuntu focal-updates/restricted amd64 Packages [3800 kB]\r\n",
      "Get:12 http://archive.ubuntu.com/ubuntu focal-updates/universe amd64 Packages [1511 kB]\r\n",
      "Get:13 http://security.ubuntu.com/ubuntu focal-security/restricted amd64 Packages [3651 kB]\r\n",
      "Get:14 http://security.ubuntu.com/ubuntu focal-security/universe amd64 Packages [1213 kB]\r\n",
      "Fetched 22.8 MB in 4s (5776 kB/s)\r\n",
      "\r\n",
      "\r\n",
      "\r\n",
      "\r\n",
      "The following additional packages will be installed:\r\n",
      "  freeglut3 libglu1-mesa\r\n",
      "Suggested packages:\r\n",
      "  python3-numpy libgle3\r\n",
      "The following NEW packages will be installed:\r\n",
      "  freeglut3 libglu1-mesa python3-opengl\r\n",
      "0 upgraded, 3 newly installed, 0 to remove and 70 not upgraded.\r\n",
      "Need to get 728 kB of archives.\r\n",
      "After this operation, 6216 kB of additional disk space will be used.\r\n",
      "Get:1 http://archive.ubuntu.com/ubuntu focal/universe amd64 freeglut3 amd64 2.8.1-3 [73.6 kB]\r\n",
      "Get:2 http://archive.ubuntu.com/ubuntu focal/main amd64 libglu1-mesa amd64 9.0.1-1build1 [168 kB]\r\n",
      "Get:3 http://archive.ubuntu.com/ubuntu focal/universe amd64 python3-opengl all 3.1.0+dfsg-2build1 [486 kB]\r\n",
      "Fetched 728 kB in 2s (308 kB/s)\r\n",
      "Selecting previously unselected package freeglut3:amd64.\r\n",
      "(Reading database ... 110946 files and directories currently installed.)\r\n",
      "Preparing to unpack .../freeglut3_2.8.1-3_amd64.deb ...\r\n",
      "Unpacking freeglut3:amd64 (2.8.1-3) ...\r\n",
      "Selecting previously unselected package libglu1-mesa:amd64.\r\n",
      "Preparing to unpack .../libglu1-mesa_9.0.1-1build1_amd64.deb ...\r\n",
      "Unpacking libglu1-mesa:amd64 (9.0.1-1build1) ...\r\n",
      "Selecting previously unselected package python3-opengl.\r\n",
      "Preparing to unpack .../python3-opengl_3.1.0+dfsg-2build1_all.deb ...\r\n",
      "Unpacking python3-opengl (3.1.0+dfsg-2build1) ...\r\n",
      "Setting up freeglut3:amd64 (2.8.1-3) ...\r\n",
      "Setting up libglu1-mesa:amd64 (9.0.1-1build1) ...\r\n",
      "Setting up python3-opengl (3.1.0+dfsg-2build1) ...\r\n",
      "Processing triggers for libc-bin (2.31-0ubuntu9.14) ...\r\n",
      "\r\n",
      "\r\n",
      "\r\n",
      "ffmpeg is already the newest version (7:4.2.7-0ubuntu0.1).\r\n",
      "0 upgraded, 0 newly installed, 0 to remove and 70 not upgraded.\r\n",
      "\r\n",
      "\r\n",
      "\r\n",
      "xvfb is already the newest version (2:1.20.13-1ubuntu1~20.04.17).\r\n",
      "0 upgraded, 0 newly installed, 0 to remove and 70 not upgraded.\r\n",
      "Collecting pyvirtualdisplay\r\n",
      "  Downloading PyVirtualDisplay-3.0-py3-none-any.whl.metadata (943 bytes)\r\n",
      "Downloading PyVirtualDisplay-3.0-py3-none-any.whl (15 kB)\r\n",
      "Installing collected packages: pyvirtualdisplay\r\n",
      "Successfully installed pyvirtualdisplay-3.0\r\n",
      "Collecting pyglet==1.5.1\r\n",
      "  Downloading pyglet-1.5.1-py2.py3-none-any.whl.metadata (7.6 kB)\r\n",
      "Downloading pyglet-1.5.1-py2.py3-none-any.whl (1.0 MB)\r\n",
      "\u001b[2K   \u001b[90m━━━━━━━━━━━━━━━━━━━━━━━━━━━━━━━━━━━━━━━━\u001b[0m \u001b[32m1.0/1.0 MB\u001b[0m \u001b[31m11.1 MB/s\u001b[0m eta \u001b[36m0:00:00\u001b[0m\r\n",
      "\u001b[?25hInstalling collected packages: pyglet\r\n",
      "Successfully installed pyglet-1.5.1\r\n",
      "Collecting moviepy==1.0.3\r\n",
      "  Downloading moviepy-1.0.3.tar.gz (388 kB)\r\n",
      "\u001b[2K     \u001b[90m━━━━━━━━━━━━━━━━━━━━━━━━━━━━━━━━━━━━━━━\u001b[0m \u001b[32m388.3/388.3 kB\u001b[0m \u001b[31m5.0 MB/s\u001b[0m eta \u001b[36m0:00:00\u001b[0m\r\n",
      "\u001b[?25h  Preparing metadata (setup.py) ... \u001b[?25l-\b \bdone\r\n",
      "\u001b[?25hCollecting decorator<5.0,>=4.0.2 (from moviepy==1.0.3)\r\n",
      "  Downloading decorator-4.4.2-py2.py3-none-any.whl.metadata (4.2 kB)\r\n",
      "Requirement already satisfied: tqdm<5.0,>=4.11.2 in /opt/conda/lib/python3.10/site-packages (from moviepy==1.0.3) (4.66.4)\r\n",
      "Requirement already satisfied: requests<3.0,>=2.8.1 in /opt/conda/lib/python3.10/site-packages (from moviepy==1.0.3) (2.32.3)\r\n",
      "Collecting proglog<=1.0.0 (from moviepy==1.0.3)\r\n",
      "  Downloading proglog-0.1.10-py3-none-any.whl.metadata (639 bytes)\r\n",
      "Requirement already satisfied: numpy>=1.17.3 in /opt/conda/lib/python3.10/site-packages (from moviepy==1.0.3) (1.26.4)\r\n",
      "Requirement already satisfied: imageio<3.0,>=2.5 in /opt/conda/lib/python3.10/site-packages (from moviepy==1.0.3) (2.33.1)\r\n",
      "Collecting imageio_ffmpeg>=0.2.0 (from moviepy==1.0.3)\r\n",
      "  Downloading imageio_ffmpeg-0.5.1-py3-none-manylinux2010_x86_64.whl.metadata (1.6 kB)\r\n",
      "Requirement already satisfied: pillow>=8.3.2 in /opt/conda/lib/python3.10/site-packages (from imageio<3.0,>=2.5->moviepy==1.0.3) (9.5.0)\r\n",
      "Requirement already satisfied: setuptools in /opt/conda/lib/python3.10/site-packages (from imageio_ffmpeg>=0.2.0->moviepy==1.0.3) (69.0.3)\r\n",
      "Requirement already satisfied: charset-normalizer<4,>=2 in /opt/conda/lib/python3.10/site-packages (from requests<3.0,>=2.8.1->moviepy==1.0.3) (3.3.2)\r\n",
      "Requirement already satisfied: idna<4,>=2.5 in /opt/conda/lib/python3.10/site-packages (from requests<3.0,>=2.8.1->moviepy==1.0.3) (3.6)\r\n",
      "Requirement already satisfied: urllib3<3,>=1.21.1 in /opt/conda/lib/python3.10/site-packages (from requests<3.0,>=2.8.1->moviepy==1.0.3) (1.26.18)\r\n",
      "Requirement already satisfied: certifi>=2017.4.17 in /opt/conda/lib/python3.10/site-packages (from requests<3.0,>=2.8.1->moviepy==1.0.3) (2024.2.2)\r\n",
      "Downloading decorator-4.4.2-py2.py3-none-any.whl (9.2 kB)\r\n",
      "Downloading imageio_ffmpeg-0.5.1-py3-none-manylinux2010_x86_64.whl (26.9 MB)\r\n",
      "\u001b[2K   \u001b[90m━━━━━━━━━━━━━━━━━━━━━━━━━━━━━━━━━━━━━━━━\u001b[0m \u001b[32m26.9/26.9 MB\u001b[0m \u001b[31m50.9 MB/s\u001b[0m eta \u001b[36m0:00:00\u001b[0m\r\n",
      "\u001b[?25hDownloading proglog-0.1.10-py3-none-any.whl (6.1 kB)\r\n",
      "Building wheels for collected packages: moviepy\r\n",
      "  Building wheel for moviepy (setup.py) ... \u001b[?25l-\b \b\\\b \bdone\r\n",
      "\u001b[?25h  Created wheel for moviepy: filename=moviepy-1.0.3-py3-none-any.whl size=110720 sha256=1ea6692517171753f52e2aa6a1ff49a5ded440374b48c9bd26e0b41369db7b30\r\n",
      "  Stored in directory: /root/.cache/pip/wheels/96/32/2d/e10123bd88fbfc02fed53cc18c80a171d3c87479ed845fa7c1\r\n",
      "Successfully built moviepy\r\n",
      "Installing collected packages: proglog, imageio_ffmpeg, decorator, moviepy\r\n",
      "  Attempting uninstall: decorator\r\n",
      "    Found existing installation: decorator 5.1.1\r\n",
      "    Uninstalling decorator-5.1.1:\r\n",
      "      Successfully uninstalled decorator-5.1.1\r\n",
      "Successfully installed decorator-4.4.2 imageio_ffmpeg-0.5.1 moviepy-1.0.3 proglog-0.1.10\r\n"
     ]
    }
   ],
   "source": [
    "!apt install swig cmake\n",
    "!pip install swig\n",
    "\n",
    "!sudo apt-get update\n",
    "!sudo apt-get install -y python3-opengl\n",
    "!apt install ffmpeg\n",
    "!apt install xvfb\n",
    "!pip3 install pyvirtualdisplay\n",
    "!pip install pyglet==1.5.1\n",
    "\n",
    "!pip install moviepy==1.0.3"
   ]
  },
  {
   "cell_type": "code",
   "execution_count": 2,
   "id": "b32d80e1",
   "metadata": {
    "_kg_hide-output": true,
    "execution": {
     "iopub.execute_input": "2024-06-19T08:07:28.911886Z",
     "iopub.status.busy": "2024-06-19T08:07:28.911434Z",
     "iopub.status.idle": "2024-06-19T08:07:46.567815Z",
     "shell.execute_reply": "2024-06-19T08:07:46.566400Z"
    },
    "papermill": {
     "duration": 17.701723,
     "end_time": "2024-06-19T08:07:46.570913",
     "exception": false,
     "start_time": "2024-06-19T08:07:28.869190",
     "status": "completed"
    },
    "tags": []
   },
   "outputs": [
    {
     "name": "stdout",
     "output_type": "stream",
     "text": [
      "Requirement already satisfied: gym[classic_control] in /opt/conda/lib/python3.10/site-packages (0.26.2)\r\n",
      "\u001b[33mWARNING: gym 0.26.2 does not provide the extra 'classic-control'\u001b[0m\u001b[33m\r\n",
      "\u001b[0mRequirement already satisfied: numpy>=1.18.0 in /opt/conda/lib/python3.10/site-packages (from gym[classic_control]) (1.26.4)\r\n",
      "Requirement already satisfied: cloudpickle>=1.2.0 in /opt/conda/lib/python3.10/site-packages (from gym[classic_control]) (2.2.1)\r\n",
      "Requirement already satisfied: gym-notices>=0.0.4 in /opt/conda/lib/python3.10/site-packages (from gym[classic_control]) (0.0.8)\r\n",
      "Collecting pygame==2.1.0 (from gym[classic_control])\r\n",
      "  Downloading pygame-2.1.0-cp310-cp310-manylinux_2_17_x86_64.manylinux2014_x86_64.whl.metadata (9.5 kB)\r\n",
      "Downloading pygame-2.1.0-cp310-cp310-manylinux_2_17_x86_64.manylinux2014_x86_64.whl (18.3 MB)\r\n",
      "\u001b[2K   \u001b[90m━━━━━━━━━━━━━━━━━━━━━━━━━━━━━━━━━━━━━━━━\u001b[0m \u001b[32m18.3/18.3 MB\u001b[0m \u001b[31m59.7 MB/s\u001b[0m eta \u001b[36m0:00:00\u001b[0m\r\n",
      "\u001b[?25hInstalling collected packages: pygame\r\n",
      "Successfully installed pygame-2.1.0\r\n"
     ]
    }
   ],
   "source": [
    "!pip install gym[classic_control]"
   ]
  },
  {
   "cell_type": "code",
   "execution_count": 3,
   "id": "8eef1ec7",
   "metadata": {
    "execution": {
     "iopub.execute_input": "2024-06-19T08:07:46.658244Z",
     "iopub.status.busy": "2024-06-19T08:07:46.657749Z",
     "iopub.status.idle": "2024-06-19T08:07:47.138670Z",
     "shell.execute_reply": "2024-06-19T08:07:47.137515Z"
    },
    "papermill": {
     "duration": 0.527976,
     "end_time": "2024-06-19T08:07:47.141341",
     "exception": false,
     "start_time": "2024-06-19T08:07:46.613365",
     "status": "completed"
    },
    "tags": []
   },
   "outputs": [
    {
     "data": {
      "text/plain": [
       "<pyvirtualdisplay.display.Display at 0x7c619fe69cc0>"
      ]
     },
     "execution_count": 3,
     "metadata": {},
     "output_type": "execute_result"
    }
   ],
   "source": [
    "# Virtual display\n",
    "from pyvirtualdisplay import Display\n",
    "\n",
    "virtual_display = Display(visible=0, size=(1400, 900))\n",
    "virtual_display.start()"
   ]
  },
  {
   "cell_type": "markdown",
   "id": "79c3b5ba",
   "metadata": {
    "papermill": {
     "duration": 0.041095,
     "end_time": "2024-06-19T08:07:47.223997",
     "exception": false,
     "start_time": "2024-06-19T08:07:47.182902",
     "status": "completed"
    },
    "tags": []
   },
   "source": [
    "# DDPG\n",
    "\n",
    "https://github.com/MrSyee/pg-is-all-you-need/blob/master/03.DDPG.ipynb\n",
    "\n",
    "[T. P. Lillicrap et al., \"Continuous control with deep reinforcement learning.\" arXiv preprint arXiv:1509.02971, 2015.](https://arxiv.org/pdf/1509.02971.pdf)\n",
    "\n",
    "Deep Q Network(DQN) ([Mnih et al., 2013;2015](https://storage.googleapis.com/deepmind-media/dqn/DQNNaturePaper.pdf)) algorithm is combined advances in deep learning with reinforcement learning. However, while DQN solves problems with high-dimentional observation spaces, it can only handle discrete and low-dimentional action spaces because of using greedy policy. For learning in high-dimentional and continous action spaces, the authors combine the actor-critic approach with insights from the recent success of DQN. Deep DPG(DDPG) is based on the deterministic policy gradient(DPG) algorithm ([Silver et al., 2014](http://proceedings.mlr.press/v32/silver14.pdf)). \n",
    "\n",
    "### Deterministic policy gradient\n",
    "The DPG algorithm maintains a parameterized actor function $\\mu(s|\\theta^{\\mu})$ which specifies the current policy by deterministically mapping states to a specific action. The critic $Q(s, a)$ is learned using the Bellman equation as in Q-learning. The actor is updated by following the applying the chain rule to the expected return from the start distribution $J$ with respect to the actor parameters\n",
    "\n",
    "$$\\large\n",
    "\\begin{align*}\n",
    "\\nabla_{\\theta^{\\mu}}J &\\approx E_{s_t\\sim\\rho^\\beta} [\\nabla_{\\theta^{\\mu}} Q(s,a|\\theta^Q)|_{s=s_t, a=\\mu(s_t|\\theta^\\mu)}] \\\\\n",
    "&= E_{s_t\\sim\\rho^\\beta} [\\nabla_{a} Q(s,a|\\theta^Q)|_{s=s_t, a=\\mu(s_t)} \\nabla_{\\theta^{\\mu}} \\mu(s|\\theta^\\mu)|_{s=s_t}]\n",
    "\\end{align*}\n",
    "$$\n",
    "\n",
    "### Replay buffer\n",
    "One challenge when using neural networks for reinforcement learning is that most optimization algorithms assume that **the samples are independently and identically distributed**. When the samples are generated from exploring sequentially in an environment this assumption no longer holds. The authors used a **replay buffer** to address these issues. Transitions were sampled from the environment according to the exploration policy and the tuple $(s_t, a_t, r_t, s_{t+1})$ was stored in the replay buffer. At each timestep the actor and critic are updated by sampling a minibatch uniformly from the buffer. It allows to benefit from learning across a set of **uncorrelated** transitions.\n",
    "\n",
    "### Soft update target network\n",
    "Since the network $(Q(s,a|\\theta^Q)$ being updated is also used in calculating the target value, the Q update is prone to divergence. To avoid this, the authors use **the target network** like DQN, but modified for actor-critic and using **soft target updates**. Target networks is created by copying the actor and critic networks, $Q'(s,a|\\theta^{Q'})$ and $\\mu'(s|\\theta^{\\mu`})$ respectively, that are used for calculating the target values. The weights of these target networks are then updated by having them slowly track the learned networks:\n",
    "\n",
    "$$\\large\n",
    "\\theta' \\leftarrow \\tau \\theta + (1 - \\tau)\\theta' \\ \\ \\ {with} \\ \\tau \\ll 1.\n",
    "$$\n",
    "\n",
    "It greatly improves the stability of learning.\n",
    "\n",
    "### Exploration for continuous action space\n",
    "An advantage of offpolicies algorithms such as DDPG is that we can treat the problem of exploration independently from the learning algorithm. The authors construct an exploration policy $\\mu'$ by adding noise sampled from a noise process $\\mathcal{N}$ to the actor policy\n",
    "\n",
    "$$\\large\n",
    "\\mu'(s_t) = \\mu(s_t|\\theta^{\\mu}_t) + \\mathcal{N}\n",
    "$$\n",
    "\n",
    "$\\mathcal{N}$ can be chosen to suit the environment. The authors used **Ornstein-Uhlenbeck process** to generate temporally correlated exploration."
   ]
  },
  {
   "cell_type": "markdown",
   "id": "4eb48c96",
   "metadata": {
    "papermill": {
     "duration": 0.041047,
     "end_time": "2024-06-19T08:07:47.306443",
     "exception": false,
     "start_time": "2024-06-19T08:07:47.265396",
     "status": "completed"
    },
    "tags": []
   },
   "source": [
    "## Import modules"
   ]
  },
  {
   "cell_type": "code",
   "execution_count": 4,
   "id": "642429f7",
   "metadata": {
    "execution": {
     "iopub.execute_input": "2024-06-19T08:07:47.411597Z",
     "iopub.status.busy": "2024-06-19T08:07:47.411209Z",
     "iopub.status.idle": "2024-06-19T08:07:51.264699Z",
     "shell.execute_reply": "2024-06-19T08:07:51.263313Z"
    },
    "papermill": {
     "duration": 3.917731,
     "end_time": "2024-06-19T08:07:51.267620",
     "exception": false,
     "start_time": "2024-06-19T08:07:47.349889",
     "status": "completed"
    },
    "tags": []
   },
   "outputs": [],
   "source": [
    "import copy\n",
    "import random\n",
    "from typing import Dict, List, Tuple\n",
    "\n",
    "import gym\n",
    "import matplotlib.pyplot as plt\n",
    "import numpy as np\n",
    "import torch\n",
    "import torch.nn as nn\n",
    "import torch.nn.functional as F\n",
    "import torch.optim as optim\n",
    "\n",
    "from IPython.display import clear_output\n",
    "\n",
    "from pathlib import Path\n",
    "import datetime\n",
    "import json\n",
    "import imageio\n",
    "import IPython\n",
    "import base64\n",
    "\n",
    "import tempfile\n",
    "\n",
    "import os"
   ]
  },
  {
   "cell_type": "markdown",
   "id": "4cd6d2d2",
   "metadata": {
    "papermill": {
     "duration": 0.04097,
     "end_time": "2024-06-19T08:07:51.351149",
     "exception": false,
     "start_time": "2024-06-19T08:07:51.310179",
     "status": "completed"
    },
    "tags": []
   },
   "source": [
    "## Set random seed"
   ]
  },
  {
   "cell_type": "code",
   "execution_count": 5,
   "id": "ca335eb8",
   "metadata": {
    "execution": {
     "iopub.execute_input": "2024-06-19T08:07:51.437218Z",
     "iopub.status.busy": "2024-06-19T08:07:51.435906Z",
     "iopub.status.idle": "2024-06-19T08:07:51.445983Z",
     "shell.execute_reply": "2024-06-19T08:07:51.444804Z"
    },
    "papermill": {
     "duration": 0.056207,
     "end_time": "2024-06-19T08:07:51.448881",
     "exception": false,
     "start_time": "2024-06-19T08:07:51.392674",
     "status": "completed"
    },
    "tags": []
   },
   "outputs": [],
   "source": [
    "if torch.backends.cudnn.enabled:\n",
    "    torch.backends.cudnn.benchmark = False\n",
    "    torch.backends.cudnn.deterministic = True\n",
    "\n",
    "seed = 777\n",
    "torch.manual_seed(seed)\n",
    "np.random.seed(seed)\n",
    "random.seed(seed)"
   ]
  },
  {
   "cell_type": "markdown",
   "id": "e58078f9",
   "metadata": {
    "papermill": {
     "duration": 0.103836,
     "end_time": "2024-06-19T08:07:51.594146",
     "exception": false,
     "start_time": "2024-06-19T08:07:51.490310",
     "status": "completed"
    },
    "tags": []
   },
   "source": [
    "# Replay buffer\n",
    "Typically, people implement replay buffers with one of the following three data structures:\n",
    "\n",
    "- collections.deque\n",
    "- list\n",
    "- numpy.ndarray\n",
    "\n",
    "**deque** is very easy to handle once you initialize its maximum length (e.g. deque(maxlen=buffer_size)). However, the indexing operation of deque gets terribly slow as it grows up because it is [internally doubly linked list](https://wiki.python.org/moin/TimeComplexity#collections.deque). On the other hands, **list** is an array, so it is relatively faster than deque when you sample batches at every step. Its amortized cost of Get item is [O(1)](https://wiki.python.org/moin/TimeComplexity#list).\n",
    "\n",
    "Last but not least, let's see **numpy.ndarray**. numpy.ndarray is even faster than list due to the fact that it is [a homogeneous array of fixed-size items](https://docs.scipy.org/doc/numpy/reference/generated/numpy.ndarray.html#numpy.ndarray), so you can get the benefits of [locality of reference](https://en.wikipedia.org/wiki/Locality_of_reference), . Whereas list is an array of pointers to objects, even when all of them are of the same type.\n",
    "\n",
    "Here, we are going to implement a replay buffer using numpy.ndarray.\n",
    "\n",
    "Reference: \n",
    "- [OpenAI spinning-up](https://github.com/openai/spinningup/blob/master/spinup/algos/sac/sac.py#L10)\n",
    "- [rainbow-is-all-you-need](https://render.githubusercontent.com/view/ipynb?commit=032d11277cf2436853478a69ca5a4aba03202598&enc_url=68747470733a2f2f7261772e67697468756275736572636f6e74656e742e636f6d2f437572742d5061726b2f7261696e626f772d69732d616c6c2d796f752d6e6565642f303332643131323737636632343336383533343738613639636135613461626130333230323539382f30312e64716e2e6970796e62&nwo=Curt-Park%2Frainbow-is-all-you-need&path=01.dqn.ipynb&repository_id=191133946&repository_type=Repository#Replay-buffer)"
   ]
  },
  {
   "cell_type": "code",
   "execution_count": 6,
   "id": "493152d7",
   "metadata": {
    "execution": {
     "iopub.execute_input": "2024-06-19T08:07:51.683262Z",
     "iopub.status.busy": "2024-06-19T08:07:51.682857Z",
     "iopub.status.idle": "2024-06-19T08:07:51.699139Z",
     "shell.execute_reply": "2024-06-19T08:07:51.697701Z"
    },
    "papermill": {
     "duration": 0.06594,
     "end_time": "2024-06-19T08:07:51.701994",
     "exception": false,
     "start_time": "2024-06-19T08:07:51.636054",
     "status": "completed"
    },
    "tags": []
   },
   "outputs": [],
   "source": [
    "class ReplayBuffer:\n",
    "    \"\"\"A simple numpy replay buffer.\"\"\"\n",
    "\n",
    "    def __init__(self, obs_dim: int, size: int, batch_size: int = 32):\n",
    "        \"\"\"Initializate.\"\"\"\n",
    "        self.obs_buf = np.zeros([size, obs_dim], dtype=np.float32)  # observation/state buffer\n",
    "        self.next_obs_buf = np.zeros([size, obs_dim], dtype=np.float32) # next state buffer\n",
    "        self.acts_buf = np.zeros([size], dtype=np.float32) # actions buffer\n",
    "        self.rews_buf = np.zeros([size], dtype=np.float32) # rewards buffer\n",
    "        self.done_buf = np.zeros([size], dtype=np.float32) # done buffer\n",
    "        self.max_size, self.batch_size = size, batch_size\n",
    "        self.ptr, self.size, = 0, 0\n",
    "\n",
    "    def store(\n",
    "        self,\n",
    "        obs: np.ndarray,\n",
    "        act: np.ndarray, \n",
    "        rew: float, \n",
    "        next_obs: np.ndarray, \n",
    "        done: bool,\n",
    "    ):\n",
    "        \"\"\"Store the transition in buffer.\"\"\"\n",
    "        self.obs_buf[self.ptr] = obs\n",
    "        self.next_obs_buf[self.ptr] = next_obs\n",
    "        self.acts_buf[self.ptr] = act\n",
    "        self.rews_buf[self.ptr] = rew\n",
    "        self.done_buf[self.ptr] = done\n",
    "        self.ptr = (self.ptr + 1) % self.max_size\n",
    "        self.size = min(self.size + 1, self.max_size)\n",
    "\n",
    "    def sample_batch(self) -> Dict[str, np.ndarray]:\n",
    "        \"\"\"Randomly sample a batch of experiences from memory.\"\"\"\n",
    "        idxs = np.random.choice(self.size, size=self.batch_size, replace=False)\n",
    "        return dict(obs=self.obs_buf[idxs],\n",
    "                    next_obs=self.next_obs_buf[idxs],\n",
    "                    acts=self.acts_buf[idxs],\n",
    "                    rews=self.rews_buf[idxs],\n",
    "                    done=self.done_buf[idxs])\n",
    "\n",
    "    def __len__(self) -> int:\n",
    "        return self.size"
   ]
  },
  {
   "cell_type": "markdown",
   "id": "1e7511c1",
   "metadata": {
    "papermill": {
     "duration": 0.041588,
     "end_time": "2024-06-19T08:07:51.785831",
     "exception": false,
     "start_time": "2024-06-19T08:07:51.744243",
     "status": "completed"
    },
    "tags": []
   },
   "source": [
    "# OU Noise\n",
    "**Ornstein-Uhlenbeck** process generates temporally correlated exploration, and it effectively copes with physical control problems of inertia.\n",
    "\n",
    "$$\\large\n",
    "dx_t = \\theta(\\mu - x_t) dt + \\sigma dW_t\n",
    "$$\n",
    "\n",
    "Reference: \n",
    "- [Udacity github](https://github.com/udacity/deep-reinforcement-learning/blob/master/ddpg-pendulum/ddpg_agent.py)\n",
    "- [Wiki](https://en.wikipedia.org/wiki/Ornstein%E2%80%93Uhlenbeck_process)"
   ]
  },
  {
   "cell_type": "code",
   "execution_count": 7,
   "id": "8daeb973",
   "metadata": {
    "execution": {
     "iopub.execute_input": "2024-06-19T08:07:51.871657Z",
     "iopub.status.busy": "2024-06-19T08:07:51.871241Z",
     "iopub.status.idle": "2024-06-19T08:07:51.881476Z",
     "shell.execute_reply": "2024-06-19T08:07:51.880171Z"
    },
    "papermill": {
     "duration": 0.056159,
     "end_time": "2024-06-19T08:07:51.884096",
     "exception": false,
     "start_time": "2024-06-19T08:07:51.827937",
     "status": "completed"
    },
    "tags": []
   },
   "outputs": [],
   "source": [
    "class OUNoise:\n",
    "    \"\"\"Ornstein-Uhlenbeck process.\n",
    "    Taken from Udacity deep-reinforcement-learning github repository:\n",
    "    https://github.com/udacity/deep-reinforcement-learning/blob/master/\n",
    "    ddpg-pendulum/ddpg_agent.py\n",
    "    \"\"\"\n",
    "\n",
    "    def __init__(\n",
    "        self, \n",
    "        size: int, \n",
    "        mu: float = 0.0, \n",
    "        theta: float = 0.15, \n",
    "        sigma: float = 0.2,\n",
    "    ):\n",
    "        \"\"\"Initialize parameters and noise process.\"\"\"\n",
    "        self.state = np.float64(0.0)\n",
    "        self.mu = mu * np.ones(size)\n",
    "        self.theta = theta\n",
    "        self.sigma = sigma\n",
    "        self.reset()\n",
    "\n",
    "    def reset(self):\n",
    "        \"\"\"Reset the internal state (= noise) to mean (mu).\"\"\"\n",
    "        self.state = copy.copy(self.mu)\n",
    "\n",
    "    def sample(self) -> np.ndarray:\n",
    "        \"\"\"Update internal state and return it as a noise sample.\"\"\"\n",
    "        x = self.state\n",
    "        dx = self.theta * (self.mu - x) + self.sigma * np.array(\n",
    "            [random.random() for _ in range(len(x))]\n",
    "        )\n",
    "        self.state = x + dx\n",
    "        return self.state"
   ]
  },
  {
   "cell_type": "markdown",
   "id": "5bcf9c1c",
   "metadata": {
    "papermill": {
     "duration": 0.041704,
     "end_time": "2024-06-19T08:07:51.968018",
     "exception": false,
     "start_time": "2024-06-19T08:07:51.926314",
     "status": "completed"
    },
    "tags": []
   },
   "source": [
    "# Network\n",
    "We are going to use two separated networks for actor and critic. The actor network has three fully connected layers and three non-linearity functions, **ReLU** for hidden layers and **tanh** for the output layer. On the other hand, the critic network has three fully connected layers, but it used two activation functions for hidden layers **ReLU**. Plus, its input sizes of critic network are sum of state sizes and action sizes. One thing to note is that we initialize the final layer's weights and biases so that they are **uniformly distributed.**"
   ]
  },
  {
   "cell_type": "code",
   "execution_count": 8,
   "id": "fff4268f",
   "metadata": {
    "execution": {
     "iopub.execute_input": "2024-06-19T08:07:52.054683Z",
     "iopub.status.busy": "2024-06-19T08:07:52.054190Z",
     "iopub.status.idle": "2024-06-19T08:07:52.064246Z",
     "shell.execute_reply": "2024-06-19T08:07:52.062948Z"
    },
    "papermill": {
     "duration": 0.056408,
     "end_time": "2024-06-19T08:07:52.066888",
     "exception": false,
     "start_time": "2024-06-19T08:07:52.010480",
     "status": "completed"
    },
    "tags": []
   },
   "outputs": [],
   "source": [
    "class Actor(nn.Module):\n",
    "    def __init__(\n",
    "        self, \n",
    "        in_dim: int, \n",
    "        out_dim: int,\n",
    "        init_w: float = 3e-3,\n",
    "    ):\n",
    "        \"\"\"Initialize.\"\"\"\n",
    "        super(Actor, self).__init__()\n",
    "        \n",
    "        self.hidden1 = nn.Linear(in_dim, 128)\n",
    "        self.hidden2 = nn.Linear(128, 128)\n",
    "        self.out = nn.Linear(128, out_dim)\n",
    "        \n",
    "        self.out.weight.data.uniform_(-init_w, init_w)\n",
    "        self.out.bias.data.uniform_(-init_w, init_w)\n",
    "\n",
    "    def forward(self, state: torch.Tensor) -> torch.Tensor:\n",
    "        \"\"\"Forward method implementation.\"\"\"\n",
    "        x = F.relu(self.hidden1(state))\n",
    "        x = F.relu(self.hidden2(x))\n",
    "        action = self.out(x).tanh()\n",
    "        \n",
    "        return action"
   ]
  },
  {
   "cell_type": "code",
   "execution_count": 9,
   "id": "e3187738",
   "metadata": {
    "execution": {
     "iopub.execute_input": "2024-06-19T08:07:52.153832Z",
     "iopub.status.busy": "2024-06-19T08:07:52.153392Z",
     "iopub.status.idle": "2024-06-19T08:07:52.163206Z",
     "shell.execute_reply": "2024-06-19T08:07:52.162021Z"
    },
    "papermill": {
     "duration": 0.056655,
     "end_time": "2024-06-19T08:07:52.166054",
     "exception": false,
     "start_time": "2024-06-19T08:07:52.109399",
     "status": "completed"
    },
    "tags": []
   },
   "outputs": [],
   "source": [
    "class Critic(nn.Module):\n",
    "    def __init__(\n",
    "        self, \n",
    "        in_dim: int, \n",
    "        init_w: float = 3e-3,\n",
    "    ):\n",
    "        \"\"\"Initialize.\"\"\"\n",
    "        super(Critic, self).__init__()\n",
    "        \n",
    "        self.hidden1 = nn.Linear(in_dim, 128)\n",
    "        self.hidden2 = nn.Linear(128, 128)\n",
    "        self.out = nn.Linear(128, 1)\n",
    "        \n",
    "        self.out.weight.data.uniform_(-init_w, init_w)\n",
    "        self.out.bias.data.uniform_(-init_w, init_w)\n",
    "\n",
    "    def forward(\n",
    "        self, state: torch.Tensor, action: torch.Tensor\n",
    "    ) -> torch.Tensor:\n",
    "        \"\"\"Forward method implementation.\"\"\"\n",
    "        x = torch.cat((state, action), dim=-1)\n",
    "        x = F.relu(self.hidden1(x))\n",
    "        x = F.relu(self.hidden2(x))\n",
    "        value = self.out(x)\n",
    "        \n",
    "        return value"
   ]
  },
  {
   "cell_type": "markdown",
   "id": "8a2cac61",
   "metadata": {
    "papermill": {
     "duration": 0.041916,
     "end_time": "2024-06-19T08:07:52.250672",
     "exception": false,
     "start_time": "2024-06-19T08:07:52.208756",
     "status": "completed"
    },
    "tags": []
   },
   "source": [
    "# DDPG Agent\n",
    "Here is a summary of DDPGAgent class.\n",
    "\n",
    "| Method           | Note                                                 |\n",
    "|---               |---                                                  |\n",
    "|select_action     | select an action from the input state.               |\n",
    "|step              | take an action and return the response of the env.   |\n",
    "|update_model      | update the model by gradient descent.                |\n",
    "|train             | train the agent during num_frames.                   |\n",
    "|test              | test the agent (1 episode).                          |\n",
    "|\\_target_soft_update| soft update from the local model to the target model.|\n",
    "|\\_plot              | plot the training progresses.                        |"
   ]
  },
  {
   "cell_type": "code",
   "execution_count": 10,
   "id": "ef18cdf7",
   "metadata": {
    "execution": {
     "iopub.execute_input": "2024-06-19T08:07:52.336708Z",
     "iopub.status.busy": "2024-06-19T08:07:52.336330Z",
     "iopub.status.idle": "2024-06-19T08:07:52.483265Z",
     "shell.execute_reply": "2024-06-19T08:07:52.482217Z"
    },
    "papermill": {
     "duration": 0.193487,
     "end_time": "2024-06-19T08:07:52.486110",
     "exception": false,
     "start_time": "2024-06-19T08:07:52.292623",
     "status": "completed"
    },
    "tags": []
   },
   "outputs": [],
   "source": [
    "class DDPGAgent:\n",
    "    \"\"\"DDPGAgent interacting with environment.\n",
    "    \n",
    "    Attribute:\n",
    "        env (gym.Env): openAI Gym environment\n",
    "        actor (nn.Module): target actor model to select actions\n",
    "        actor_target (nn.Module): actor model to predict next actions\n",
    "        actor_optimizer (Optimizer): optimizer for training actor\n",
    "        critic (nn.Module): critic model to predict state values\n",
    "        critic_target (nn.Module): target critic model to predict state values\n",
    "        critic_optimizer (Optimizer): optimizer for training critic\n",
    "        memory (ReplayBuffer): replay memory to store transitions\n",
    "        batch_size (int): batch size for sampling\n",
    "        gamma (float): discount factor\n",
    "        tau (float): parameter for soft target update\n",
    "        initial_random_steps (int): initial random action steps\n",
    "        noise (OUNoise): noise generator for exploration\n",
    "        device (torch.device): cpu / gpu\n",
    "        transition (list): temporory storage for the recent transition\n",
    "        total_step (int): total step numbers\n",
    "        is_test (bool): flag to show the current mode (train / test)\n",
    "    \"\"\"\n",
    "    def __init__(self,\n",
    "        env: gym.Env,\n",
    "        memory_size: int,\n",
    "        batch_size: int,\n",
    "        ou_noise_theta: float,\n",
    "        ou_noise_sigma: float,\n",
    "        gamma: float = 0.99,\n",
    "        tau: float = 5e-3,\n",
    "        initial_random_steps: int = 1e4,\n",
    "    ):\n",
    "        \"\"\"Initialize.\"\"\"\n",
    "        obs_dim = env.observation_space.shape[0]\n",
    "        action_dim = env.action_space.shape[0]\n",
    "\n",
    "        self.env = env\n",
    "        self.memory = ReplayBuffer(obs_dim, memory_size, batch_size)\n",
    "        self.batch_size = batch_size\n",
    "        self.gamma = gamma\n",
    "        self.tau = tau\n",
    "        self.initial_random_steps = initial_random_steps\n",
    "                \n",
    "        # noise\n",
    "        self.noise = OUNoise(action_dim, theta=ou_noise_theta, sigma=ou_noise_sigma)\n",
    "\n",
    "        # device: cpu / gpu\n",
    "        self.device = torch.device(\"cuda\" if torch.cuda.is_available() else \"cpu\")\n",
    "        print(self.device)\n",
    "\n",
    "        # networks\n",
    "        self.actor = Actor(obs_dim, action_dim).to(self.device)\n",
    "        self.actor_target = Actor(obs_dim, action_dim).to(self.device)\n",
    "        self.actor_target.load_state_dict(self.actor.state_dict())\n",
    "        \n",
    "        self.critic = Critic(obs_dim + action_dim).to(self.device)\n",
    "        self.critic_target = Critic(obs_dim + action_dim).to(self.device)\n",
    "        self.critic_target.load_state_dict(self.critic.state_dict())\n",
    "\n",
    "        # optimizer\n",
    "        self.actor_optimizer = optim.Adam(self.actor.parameters(), lr=3e-4)\n",
    "        self.critic_optimizer = optim.Adam(self.critic.parameters(), lr=1e-3)\n",
    "        \n",
    "        # transition to store in memory\n",
    "        self.transition = list()\n",
    "        \n",
    "        # total steps count\n",
    "        self.total_step = 0\n",
    "\n",
    "        # mode: train / test\n",
    "        self.is_test = False\n",
    "    \n",
    "    def select_action(self, state: np.ndarray) -> np.ndarray:\n",
    "        \"\"\"Select an action from the input state.\"\"\"\n",
    "        # if initial random action should be conducted\n",
    "        if self.total_step < self.initial_random_steps and not self.is_test:\n",
    "            selected_action = self.env.action_space.sample()\n",
    "        else:\n",
    "            selected_action = self.actor(torch.FloatTensor(state).to(self.device)).detach().cpu().numpy()\n",
    "        \n",
    "        # add noise for exploration during training\n",
    "        if not self.is_test:\n",
    "            noise = self.noise.sample()\n",
    "            selected_action = np.clip(selected_action + noise, -1.0, 1.0)\n",
    "        \n",
    "        self.transition = [state, selected_action]\n",
    "        \n",
    "        return selected_action\n",
    "    \n",
    "    def step(self, action: np.ndarray) -> Tuple[np.ndarray, np.float64, bool]:\n",
    "        \"\"\"Take an action and return the response of the env.\"\"\"\n",
    "        next_state, reward, done, _, _ = self.env.step(action)\n",
    "        \n",
    "        if not self.is_test:\n",
    "            self.transition += [reward, next_state, done]\n",
    "            self.memory.store(*self.transition)\n",
    "    \n",
    "        return next_state, reward, done\n",
    "    \n",
    "    def update_model(self) -> torch.Tensor:\n",
    "        \"\"\"Update the model by gradient descent.\"\"\"\n",
    "        device = self.device  # for shortening the following lines\n",
    "        \n",
    "        samples = self.memory.sample_batch()\n",
    "        state = torch.FloatTensor(samples[\"obs\"]).to(device)\n",
    "        next_state = torch.FloatTensor(samples[\"next_obs\"]).to(device)\n",
    "        action = torch.FloatTensor(samples[\"acts\"].reshape(-1, 1)).to(device)\n",
    "        reward = torch.FloatTensor(samples[\"rews\"].reshape(-1, 1)).to(device)\n",
    "        done = torch.FloatTensor(samples[\"done\"].reshape(-1, 1)).to(device)\n",
    "        \n",
    "        masks = 1 - done\n",
    "        next_action = self.actor_target(next_state)\n",
    "        next_value = self.critic_target(next_state, next_action)\n",
    "        curr_return = reward + self.gamma * next_value * masks\n",
    "        \n",
    "        # train critic\n",
    "        values = self.critic(state, action)\n",
    "        critic_loss = F.mse_loss(values, curr_return)\n",
    "        \n",
    "        self.critic_optimizer.zero_grad()\n",
    "        critic_loss.backward()\n",
    "        self.critic_optimizer.step()\n",
    "                \n",
    "        # train actor\n",
    "        actor_loss = -self.critic(state, self.actor(state)).mean()\n",
    "        \n",
    "        self.actor_optimizer.zero_grad()\n",
    "        actor_loss.backward()\n",
    "        self.actor_optimizer.step()\n",
    "        \n",
    "        # target update\n",
    "        self._target_soft_update()\n",
    "        \n",
    "        return actor_loss.data, critic_loss.data\n",
    "    \n",
    "    def train(self, num_frames: int, plotting_interval: int = 200):\n",
    "        \"\"\"Train the agent.\"\"\"\n",
    "        self.is_test = False\n",
    "        \n",
    "        state, _ = self.env.reset()\n",
    "        actor_losses = []\n",
    "        critic_losses = []\n",
    "        scores = []\n",
    "        score = 0\n",
    "        \n",
    "        for self.total_step in range(1, num_frames + 1):\n",
    "            action = self.select_action(state)\n",
    "            next_state, reward, done = self.step(action)\n",
    "\n",
    "            state = next_state\n",
    "            score += reward\n",
    "\n",
    "            # if episode ends\n",
    "            if done:         \n",
    "                state, _ = env.reset()\n",
    "                scores.append(score)\n",
    "                score = 0\n",
    "\n",
    "            # if training is ready\n",
    "            if (\n",
    "                len(self.memory) >= self.batch_size \n",
    "                and self.total_step > self.initial_random_steps\n",
    "            ):\n",
    "                actor_loss, critic_loss = self.update_model()\n",
    "                actor_losses.append(actor_loss)\n",
    "                critic_losses.append(critic_loss)\n",
    "            \n",
    "            # plotting\n",
    "            if self.total_step % plotting_interval == 0:\n",
    "                torch.save(self, 'model.pt')\n",
    "                self._plot(\n",
    "                    self.total_step, \n",
    "                    scores, \n",
    "                    actor_losses, \n",
    "                    critic_losses,\n",
    "                )\n",
    "                \n",
    "        self.env.close()\n",
    "    \n",
    "    def _target_soft_update(self):\n",
    "        \"\"\"Soft-update: target = tau*local + (1-tau)*target.\"\"\"\n",
    "        tau = self.tau\n",
    "        \n",
    "        for t_param, l_param in zip(\n",
    "            self.actor_target.parameters(), self.actor.parameters()\n",
    "        ):\n",
    "            t_param.data.copy_(tau * l_param.data + (1.0 - tau) * t_param.data)\n",
    "            \n",
    "        for t_param, l_param in zip(\n",
    "            self.critic_target.parameters(), self.critic.parameters()\n",
    "        ):\n",
    "            t_param.data.copy_(tau * l_param.data + (1.0 - tau) * t_param.data)\n",
    "    \n",
    "    def _plot(\n",
    "        self, \n",
    "        frame_idx: int, \n",
    "        scores: List[float], \n",
    "        actor_losses: List[float], \n",
    "        critic_losses: List[float], \n",
    "    ):\n",
    "        \"\"\"Plot the training progresses.\"\"\"\n",
    "        def subplot(loc: int, title: str, values: List[float]):\n",
    "            plt.subplot(loc)\n",
    "            plt.title(title)\n",
    "            plt.plot(values)\n",
    "\n",
    "        subplot_params = [\n",
    "            (131, f\"frame {frame_idx}. score: {np.mean(scores[-10:])}\", scores),\n",
    "            (132, \"actor_loss\", actor_losses),\n",
    "            (133, \"critic_loss\", critic_losses),\n",
    "        ]\n",
    "        \n",
    "        clear_output(True)\n",
    "        plt.figure(figsize=(30, 5))\n",
    "        for loc, title, values in subplot_params:\n",
    "            subplot(loc, title, values)\n",
    "        plt.show()"
   ]
  },
  {
   "cell_type": "markdown",
   "id": "c8ed60c6",
   "metadata": {
    "papermill": {
     "duration": 0.041395,
     "end_time": "2024-06-19T08:07:52.569242",
     "exception": false,
     "start_time": "2024-06-19T08:07:52.527847",
     "status": "completed"
    },
    "tags": []
   },
   "source": [
    "# Environment\n",
    "*ActionNormalizer* is an action wrapper class to normalize the action values ranged in (-1. 1). Thanks to this class, we can make the agent simply select action values within the zero centered range (-1, 1)."
   ]
  },
  {
   "cell_type": "code",
   "execution_count": 11,
   "id": "79967312",
   "metadata": {
    "execution": {
     "iopub.execute_input": "2024-06-19T08:07:52.654932Z",
     "iopub.status.busy": "2024-06-19T08:07:52.653702Z",
     "iopub.status.idle": "2024-06-19T08:07:52.663152Z",
     "shell.execute_reply": "2024-06-19T08:07:52.661938Z"
    },
    "papermill": {
     "duration": 0.054887,
     "end_time": "2024-06-19T08:07:52.665892",
     "exception": false,
     "start_time": "2024-06-19T08:07:52.611005",
     "status": "completed"
    },
    "tags": []
   },
   "outputs": [],
   "source": [
    "class ActionNormalizer(gym.ActionWrapper):\n",
    "    \"\"\"Rescale and relocate the actions.\"\"\"\n",
    "\n",
    "    def action(self, action: np.ndarray) -> np.ndarray:\n",
    "        \"\"\"Change the range (-1, 1) to (low, high).\"\"\"\n",
    "        low = self.action_space.low\n",
    "        high = self.action_space.high\n",
    "\n",
    "        scale_factor = (high - low) / 2\n",
    "        reloc_factor = high - scale_factor\n",
    "\n",
    "        action = action * scale_factor + reloc_factor\n",
    "        action = np.clip(action, low, high)\n",
    "\n",
    "        return action\n",
    "\n",
    "    def reverse_action(self, action: np.ndarray) -> np.ndarray:\n",
    "        \"\"\"Change the range (low, high) to (-1, 1).\"\"\"\n",
    "        low = self.action_space.low\n",
    "        high = self.action_space.high\n",
    "\n",
    "        scale_factor = (high - low) / 2\n",
    "        reloc_factor = high - scale_factor\n",
    "\n",
    "        action = (action - reloc_factor) / scale_factor\n",
    "        action = np.clip(action, -1.0, 1.0)\n",
    "\n",
    "        return action"
   ]
  },
  {
   "cell_type": "markdown",
   "id": "363163fc",
   "metadata": {
    "papermill": {
     "duration": 0.042234,
     "end_time": "2024-06-19T08:07:52.751952",
     "exception": false,
     "start_time": "2024-06-19T08:07:52.709718",
     "status": "completed"
    },
    "tags": []
   },
   "source": [
    "You can see [the code](https://github.com/openai/gym/blob/master/gym/envs/classic_control/pendulum.py) and [configurations](https://github.com/openai/gym/blob/cedecb35e3428985fd4efad738befeb75b9077f1/gym/envs/__init__.py#L81) of Pendulum-v0 from OpenAI's repository."
   ]
  },
  {
   "cell_type": "code",
   "execution_count": 12,
   "id": "daa0644d",
   "metadata": {
    "execution": {
     "iopub.execute_input": "2024-06-19T08:07:52.837658Z",
     "iopub.status.busy": "2024-06-19T08:07:52.837243Z",
     "iopub.status.idle": "2024-06-19T08:07:52.856005Z",
     "shell.execute_reply": "2024-06-19T08:07:52.855035Z"
    },
    "papermill": {
     "duration": 0.064598,
     "end_time": "2024-06-19T08:07:52.858732",
     "exception": false,
     "start_time": "2024-06-19T08:07:52.794134",
     "status": "completed"
    },
    "tags": []
   },
   "outputs": [],
   "source": [
    "# environment\n",
    "env_id = \"Pendulum-v1\"\n",
    "env = gym.make(env_id, render_mode=\"rgb_array\")\n",
    "env = ActionNormalizer(env)"
   ]
  },
  {
   "cell_type": "markdown",
   "id": "1e9a9559",
   "metadata": {
    "papermill": {
     "duration": 0.041463,
     "end_time": "2024-06-19T08:07:52.942516",
     "exception": false,
     "start_time": "2024-06-19T08:07:52.901053",
     "status": "completed"
    },
    "tags": []
   },
   "source": [
    "## Set random seed"
   ]
  },
  {
   "cell_type": "code",
   "execution_count": 13,
   "id": "a55b0a33",
   "metadata": {
    "execution": {
     "iopub.execute_input": "2024-06-19T08:07:53.028668Z",
     "iopub.status.busy": "2024-06-19T08:07:53.028211Z",
     "iopub.status.idle": "2024-06-19T08:07:53.041031Z",
     "shell.execute_reply": "2024-06-19T08:07:53.039742Z"
    },
    "papermill": {
     "duration": 0.058747,
     "end_time": "2024-06-19T08:07:53.043745",
     "exception": false,
     "start_time": "2024-06-19T08:07:52.984998",
     "status": "completed"
    },
    "tags": []
   },
   "outputs": [
    {
     "data": {
      "text/plain": [
       "(array([ 0.7661138 ,  0.6427049 , -0.23436682], dtype=float32), {})"
      ]
     },
     "execution_count": 13,
     "metadata": {},
     "output_type": "execute_result"
    }
   ],
   "source": [
    "def seed_torch(seed):\n",
    "    torch.manual_seed(seed)\n",
    "    if torch.backends.cudnn.enabled:\n",
    "        torch.backends.cudnn.benchmark = False\n",
    "        torch.backends.cudnn.deterministic = True\n",
    "\n",
    "seed = 777\n",
    "random.seed(seed)\n",
    "np.random.seed(seed)\n",
    "seed_torch(seed)\n",
    "env.reset(seed=seed)"
   ]
  },
  {
   "cell_type": "markdown",
   "id": "ad72e3b0",
   "metadata": {
    "papermill": {
     "duration": 0.042703,
     "end_time": "2024-06-19T08:07:53.129824",
     "exception": false,
     "start_time": "2024-06-19T08:07:53.087121",
     "status": "completed"
    },
    "tags": []
   },
   "source": [
    "## Initialize"
   ]
  },
  {
   "cell_type": "code",
   "execution_count": 14,
   "id": "e71d8793",
   "metadata": {
    "execution": {
     "iopub.execute_input": "2024-06-19T08:07:53.216584Z",
     "iopub.status.busy": "2024-06-19T08:07:53.216155Z",
     "iopub.status.idle": "2024-06-19T08:07:54.721082Z",
     "shell.execute_reply": "2024-06-19T08:07:54.719828Z"
    },
    "papermill": {
     "duration": 1.552059,
     "end_time": "2024-06-19T08:07:54.724127",
     "exception": false,
     "start_time": "2024-06-19T08:07:53.172068",
     "status": "completed"
    },
    "tags": []
   },
   "outputs": [
    {
     "name": "stdout",
     "output_type": "stream",
     "text": [
      "cpu\n"
     ]
    }
   ],
   "source": [
    "# parameters\n",
    "num_frames = 50000\n",
    "memory_size = 100000\n",
    "batch_size = 128\n",
    "ou_noise_theta = 1.0\n",
    "ou_noise_sigma = 0.1\n",
    "initial_random_steps = 10000\n",
    "\n",
    "agent = DDPGAgent(\n",
    "    env, \n",
    "    memory_size, \n",
    "    batch_size,\n",
    "    ou_noise_theta,\n",
    "    ou_noise_sigma,\n",
    "    initial_random_steps=initial_random_steps\n",
    ")"
   ]
  },
  {
   "cell_type": "markdown",
   "id": "f8714254",
   "metadata": {
    "papermill": {
     "duration": 0.042102,
     "end_time": "2024-06-19T08:07:54.809246",
     "exception": false,
     "start_time": "2024-06-19T08:07:54.767144",
     "status": "completed"
    },
    "tags": []
   },
   "source": [
    "# Train DDPG Agent"
   ]
  },
  {
   "cell_type": "code",
   "execution_count": 15,
   "id": "01817a2b",
   "metadata": {
    "execution": {
     "iopub.execute_input": "2024-06-19T08:07:54.897508Z",
     "iopub.status.busy": "2024-06-19T08:07:54.896958Z",
     "iopub.status.idle": "2024-06-19T08:17:21.434084Z",
     "shell.execute_reply": "2024-06-19T08:17:21.432783Z"
    },
    "papermill": {
     "duration": 566.585354,
     "end_time": "2024-06-19T08:17:21.437033",
     "exception": false,
     "start_time": "2024-06-19T08:07:54.851679",
     "status": "completed"
    },
    "tags": []
   },
   "outputs": [
    {
     "data": {
      "image/png": "[encoded data removed]",
      "text/plain": [
       "<Figure size 3000x500 with 3 Axes>"
      ]
     },
     "metadata": {},
     "output_type": "display_data"
    }
   ],
   "source": [
    "agent.train(num_frames)"
   ]
  },
  {
   "cell_type": "markdown",
   "id": "7b28bf2a",
   "metadata": {
    "papermill": {
     "duration": 0.044225,
     "end_time": "2024-06-19T08:17:21.524843",
     "exception": false,
     "start_time": "2024-06-19T08:17:21.480618",
     "status": "completed"
    },
    "tags": []
   },
   "source": [
    "# Validate DDPG Agent\n",
    "Evaluate the trained agent"
   ]
  },
  {
   "cell_type": "code",
   "execution_count": 16,
   "id": "059d998f",
   "metadata": {
    "execution": {
     "iopub.execute_input": "2024-06-19T08:17:21.616507Z",
     "iopub.status.busy": "2024-06-19T08:17:21.616049Z",
     "iopub.status.idle": "2024-06-19T08:17:21.625814Z",
     "shell.execute_reply": "2024-06-19T08:17:21.624809Z"
    },
    "papermill": {
     "duration": 0.058034,
     "end_time": "2024-06-19T08:17:21.628223",
     "exception": false,
     "start_time": "2024-06-19T08:17:21.570189",
     "status": "completed"
    },
    "tags": []
   },
   "outputs": [],
   "source": [
    "def evaluate_agent(env, max_steps, n_eval_episodes, agent):\n",
    "  \"\"\"\n",
    "  Evaluate the agent for ``n_eval_episodes`` episodes and returns average reward and std of reward.\n",
    "  :param env: The evaluation environment\n",
    "  :param n_eval_episodes: Number of episode to evaluate the agent\n",
    "  :param policy: The Reinforce agent\n",
    "  \"\"\"\n",
    "  episode_rewards = []\n",
    "  for episode in range(n_eval_episodes):\n",
    "    state, _ = env.reset()\n",
    "    step = 0\n",
    "    done = False\n",
    "    total_rewards_ep = 0\n",
    "\n",
    "    frames = []\n",
    "    \n",
    "    for step in range(max_steps):\n",
    "      frames.append(agent.env.render()) \n",
    "      action = agent.select_action(state)\n",
    "      new_state, reward, done, _, info = env.step(action)\n",
    "      total_rewards_ep += reward\n",
    "\n",
    "      if done:\n",
    "        break\n",
    "      state = new_state\n",
    "    \n",
    "    episode_rewards.append(total_rewards_ep)\n",
    "  mean_reward = np.mean(episode_rewards)\n",
    "  std_reward = np.std(episode_rewards)\n",
    "\n",
    "  return mean_reward, std_reward, frames"
   ]
  },
  {
   "cell_type": "code",
   "execution_count": 17,
   "id": "52cb0904",
   "metadata": {
    "execution": {
     "iopub.execute_input": "2024-06-19T08:17:21.718175Z",
     "iopub.status.busy": "2024-06-19T08:17:21.717734Z",
     "iopub.status.idle": "2024-06-19T08:17:21.744919Z",
     "shell.execute_reply": "2024-06-19T08:17:21.743808Z"
    },
    "papermill": {
     "duration": 0.075659,
     "end_time": "2024-06-19T08:17:21.747629",
     "exception": false,
     "start_time": "2024-06-19T08:17:21.671970",
     "status": "completed"
    },
    "tags": []
   },
   "outputs": [],
   "source": [
    "agent = torch.load('/kaggle/working/model.pt')"
   ]
  },
  {
   "cell_type": "code",
   "execution_count": 18,
   "id": "9e0a3caf",
   "metadata": {
    "execution": {
     "iopub.execute_input": "2024-06-19T08:17:21.835584Z",
     "iopub.status.busy": "2024-06-19T08:17:21.835154Z",
     "iopub.status.idle": "2024-06-19T08:18:30.530055Z",
     "shell.execute_reply": "2024-06-19T08:18:30.528610Z"
    },
    "papermill": {
     "duration": 68.784917,
     "end_time": "2024-06-19T08:18:30.575712",
     "exception": false,
     "start_time": "2024-06-19T08:17:21.790795",
     "status": "completed"
    },
    "tags": []
   },
   "outputs": [
    {
     "name": "stdout",
     "output_type": "stream",
     "text": [
      "-287.39216461548125 167.41060372916525\n"
     ]
    }
   ],
   "source": [
    "# test\n",
    "# agent.env = Monitor(agent.env, \"videos\", force=True)\n",
    "# frames = agent.test()\n",
    "\n",
    "eval_env = gym.make(env_id, render_mode='rgb_array')\n",
    "mean_reward, std_reward, frames = evaluate_agent(eval_env, 1000, 10, agent)\n",
    "print(mean_reward, std_reward)"
   ]
  },
  {
   "cell_type": "markdown",
   "id": "bcfad023",
   "metadata": {
    "papermill": {
     "duration": 0.043349,
     "end_time": "2024-06-19T08:18:30.662263",
     "exception": false,
     "start_time": "2024-06-19T08:18:30.618914",
     "status": "completed"
    },
    "tags": []
   },
   "source": [
    "# Render DDPG Agent"
   ]
  },
  {
   "cell_type": "code",
   "execution_count": 19,
   "id": "dbf3d6f1",
   "metadata": {
    "execution": {
     "iopub.execute_input": "2024-06-19T08:18:30.754385Z",
     "iopub.status.busy": "2024-06-19T08:18:30.753883Z",
     "iopub.status.idle": "2024-06-19T08:18:30.765401Z",
     "shell.execute_reply": "2024-06-19T08:18:30.763830Z"
    },
    "papermill": {
     "duration": 0.061511,
     "end_time": "2024-06-19T08:18:30.768084",
     "exception": false,
     "start_time": "2024-06-19T08:18:30.706573",
     "status": "completed"
    },
    "tags": []
   },
   "outputs": [],
   "source": [
    "def record_video(env, agent, out_directory, fps=30):\n",
    "  \"\"\"\n",
    "  Generate a replay video of the agent\n",
    "  :param env\n",
    "  :param Qtable: Qtable of our agent\n",
    "  :param out_directory\n",
    "  :param fps: how many frame per seconds (with taxi-v3 and frozenlake-v1 we use 1)\n",
    "  \"\"\"\n",
    "\n",
    "  images = []\n",
    "  terminated = False\n",
    "  truncated = False\n",
    "  state, info = env.reset()\n",
    "  img = env.render()\n",
    "  images.append(img)\n",
    "  while not terminated or truncated:\n",
    "    # Take the action (index) that have the maximum expected future reward given that state\n",
    "    action = agent.select_action(state)\n",
    "    state, reward, terminated, truncated, info = env.step(action) # We directly put next_state = state for recording logic\n",
    "    img = env.render()\n",
    "    images.append(img)\n",
    "    if terminated or truncated:\n",
    "        env.reset()\n",
    "        break\n",
    "  env.close()\n",
    "  imageio.mimsave(out_directory, [np.array(img) for i, img in enumerate(images)], fps=fps)"
   ]
  },
  {
   "cell_type": "code",
   "execution_count": 20,
   "id": "7b3c21e3",
   "metadata": {
    "execution": {
     "iopub.execute_input": "2024-06-19T08:18:30.857077Z",
     "iopub.status.busy": "2024-06-19T08:18:30.856627Z",
     "iopub.status.idle": "2024-06-19T08:18:33.316058Z",
     "shell.execute_reply": "2024-06-19T08:18:33.314319Z"
    },
    "papermill": {
     "duration": 2.507598,
     "end_time": "2024-06-19T08:18:33.319107",
     "exception": false,
     "start_time": "2024-06-19T08:18:30.811509",
     "status": "completed"
    },
    "tags": []
   },
   "outputs": [
    {
     "name": "stderr",
     "output_type": "stream",
     "text": [
      "[swscaler @ 0x7217a00] Warning: data is not aligned! This can lead to a speed loss\n"
     ]
    }
   ],
   "source": [
    "record_video(env, agent, \"replay.mp4\", 30)"
   ]
  },
  {
   "cell_type": "code",
   "execution_count": 21,
   "id": "05c5f411",
   "metadata": {
    "execution": {
     "iopub.execute_input": "2024-06-19T08:18:33.412322Z",
     "iopub.status.busy": "2024-06-19T08:18:33.411833Z",
     "iopub.status.idle": "2024-06-19T08:18:33.425031Z",
     "shell.execute_reply": "2024-06-19T08:18:33.423691Z"
    },
    "papermill": {
     "duration": 0.061955,
     "end_time": "2024-06-19T08:18:33.427708",
     "exception": false,
     "start_time": "2024-06-19T08:18:33.365753",
     "status": "completed"
    },
    "tags": []
   },
   "outputs": [
    {
     "data": {
      "text/html": [
       "\n",
       "    <video width=\"840\" height=\"480\" controls>\n",
       "    <source src=\"data:video/mp4;base64,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\" type=\"video/mp4\">\n",
       "    Your browser does not support the video tag.\n",
       "    </video>"
      ],
      "text/plain": [
       "<IPython.core.display.HTML object>"
      ]
     },
     "execution_count": 21,
     "metadata": {},
     "output_type": "execute_result"
    }
   ],
   "source": [
    "def embed_mp4(filename):\n",
    "    \"\"\"Embeds an mp4 file in the notebook.\"\"\"\n",
    "    video = open(filename,'rb').read()\n",
    "    b64 = base64.b64encode(video)\n",
    "    tag = '''\n",
    "    <video width=\"840\" height=\"480\" controls>\n",
    "    <source src=\"data:video/mp4;base64,{0}\" type=\"video/mp4\">\n",
    "    Your browser does not support the video tag.\n",
    "    </video>'''.format(b64.decode())\n",
    "    return IPython.display.HTML(tag)\n",
    "\n",
    "embed_mp4('/kaggle/working/replay.mp4')"
   ]
  },
  {
   "cell_type": "markdown",
   "id": "9657407a",
   "metadata": {
    "papermill": {
     "duration": 0.044728,
     "end_time": "2024-06-19T08:18:33.516955",
     "exception": false,
     "start_time": "2024-06-19T08:18:33.472227",
     "status": "completed"
    },
    "tags": []
   },
   "source": [
    "# DDPGfD\n",
    "\n",
    "* **Full Documentation Step by Step:** https://wikidocs.net/204469\n",
    "* **Implementation:** https://github.com/MrSyee/pg-is-all-you-need/blob/master/06.DDPGfD.ipynb"
   ]
  },
  {
   "cell_type": "markdown",
   "id": "67198cdd",
   "metadata": {
    "papermill": {
     "duration": 0.044291,
     "end_time": "2024-06-19T08:18:33.605686",
     "exception": false,
     "start_time": "2024-06-19T08:18:33.561395",
     "status": "completed"
    },
    "tags": []
   },
   "source": [
    "[M. Vecerik et al., \"Leveraging Demonstrations for Deep Reinforcement Learning on Robotics Problems with Sparse Rewards.\"arXiv preprint arXiv:1707.08817, 2017](https://arxiv.org/pdf/1707.08817.pdf)\n",
    "\n",
    "ReinforcementLearning (RL) offers, in principle, a method to learn such policies from exploration, but the amount of actual exploration required has prohibited its use in real applications. In this paper the authors address this challenge by combining the demonstration and RL paradigms into a single framework which uses demonstrations to guide a deep-RL algorithm. \n",
    "\n",
    "The central contribution of this paper is to show that off-policy replay-memory-based RL (e.g. DDPG) is a natural vehicle for injecting demonstration data into sparse-reward tasks and that it obviates the need for reward-shaping. \n",
    "\n",
    "The algorithms called DDPG from Demonstration (*DDPGfD*) modifies DDPG to take advantage of demonstrations.\n",
    "\n",
    "### DDPG\n",
    "For learning in high-dimentional and continous action spaces, the authors of DDPG combine the actor-critic approach with insights from the success of DQN. Deep DPG(DDPG) is based on the deterministic policy gradient(DPG) algorithm ([Silver et al., 2014](http://proceedings.mlr.press/v32/silver14.pdf)). \n",
    "\n",
    "### Prioritized Experience Replay (PER)\n",
    "DDPGfD uses prioritized replay to enable efficient propagation of the reward information, which is essential in problems with sparse rewards. Prioritized experience replay modifies the agent to sample more important transitions from its replay buffer more frequently.\n",
    "\n",
    "The probability of sampling a particular transition is proportional to its priority,\n",
    "$$\\large\n",
    "P(i) = \\frac{p_i^{\\alpha}}{\\sum_k p_k^{\\alpha}}\n",
    "$$\n",
    ", where $p_i$ the priority of the transition. The priority is commonly to use the magnitude of a transition’s TD error.\n",
    "\n",
    "DDPGfD uses \n",
    "$$\\large\n",
    "p_i = \\delta^{2}_{i} + \\lambda_3 |\\nabla_a Q(s_i, a_i|\\theta^Q)|^2 + \\epsilon + \\epsilon_D,\n",
    "$$\n",
    "- $\\delta_i$ is the last TD error calculated for this transition. The second term represents the loss applied to the actor.\n",
    "- $\\epsilon$ is a small positive constant to ensure all transitions are sampled with some probability.\n",
    "- $\\epsilon_D$ is a positive constant for demonstration transitions to increase their probability of getting sampled.\n",
    "- $\\lambda_3$ is used to weight the contributions.\n",
    "\n",
    "One more. Let's recall one of the main ideas of DQN. To remove correlation of observations, it uses uniformly random sampling from the replay buffer. Prioritized replay introduces bias because it doesn't sample experiences uniformly at random due to the sampling proportion correspoding to TD-error. We can correct this bias by using importance-sampling (IS) weights\n",
    "\n",
    "$$\\large\n",
    "w_i = \\big( \\frac{1}{N} \\cdot \\frac{1}{P(i)} \\big)^\\beta\n",
    "$$\n",
    "\n",
    "that fully compensates for the non-uniform probabilities $P(i)$ if $\\beta = 1$. These weights can be folded into the Q-learning update by using $w_i\\delta_i$ instead of $\\delta_i$.\n",
    "\n",
    "For details, refer to the PER paper ([T. Schaul et al., 2015.](https://arxiv.org/pdf/1511.05952.pdf))\n",
    "\n",
    "### A mix of 1-step and n-step returns\n",
    "A modification for the sparse reward case is to use a mix of 1-step and n-step returns when updating the critic function. Incorporating *n-step returns* helps propagate the Q-values along the trajectories.\n",
    "\n",
    "The n-step return has the following form:\n",
    "$$\\large\n",
    "R_n = \\sum^{n-1}_{i=0} \\gamma^i r_i + \\gamma^n Q(s'_{n-1}, \\pi(s'_{n-1}; \\theta^{Q'}))\n",
    "$$\n",
    "\n",
    "The loss corresponding to this particular rollout is then:\n",
    "$$\\large\n",
    "L_n(\\theta^Q) = \\frac{1}{2} (R_n - Q(s, \\pi(s) | \\theta^Q))^2\n",
    "$$\n",
    "\n",
    "### Loss function\n",
    "The loss function is combined the above mentioned losses. Additionally *L2 regularization* on the parameters of the actor and the critic networks are added to stabilize the final learning performance. Two parameters called $\\lambda_1$, $\\lambda_2$ are used to weight the contributions.\n",
    "\n",
    "$$\\large\n",
    "L_{Critic}(\\theta ^ Q) = L_1(\\theta^Q) + \\lambda_1 L_n(\\theta^Q) + \\lambda_2 L^{C}_{reg} (\\theta^Q)   \\\\\n",
    "$$\n",
    "$$\\large\n",
    "\\nabla_{\\theta^{\\pi}} L_{Actor}(\\theta^\\pi) = - \\nabla_{\\theta^{\\pi}} J(\\theta^\\pi) + \\lambda_2 L^{A}_{reg} (\\theta^\\pi)\n",
    "$$\n",
    "\n",
    "### Pretrain\n",
    "We make use of the demonstration data to pre-train the agent so that it can perform well in the task from the start of learning, and then continue improving from its own self-generated data.\n",
    "\n",
    "Reference: \n",
    "- [Pseudo code of DDPGfD paper](https://arxiv.org/pdf/1707.08817.pdf)\n",
    "- [DQfD](https://arxiv.org/pdf/1704.03732)"
   ]
  },
  {
   "cell_type": "markdown",
   "id": "24aff8f7",
   "metadata": {
    "papermill": {
     "duration": 0.04503,
     "end_time": "2024-06-19T08:18:33.695542",
     "exception": false,
     "start_time": "2024-06-19T08:18:33.650512",
     "status": "completed"
    },
    "tags": []
   },
   "source": [
    "## DDPG from Demonstrations\n",
    "\n",
    "To summarize, we modified the original DDPG algorithm in the following ways:\n",
    "\n",
    "* Transitions from a human demonstrator are added to the replay buffer.\n",
    "* Prioritized replay is used for sampling transitions across both the demonstration and agent data.\n",
    "* A mix of 1-step and \\(n\\)-step return losses are used.\n",
    "* Learning multiple times per environment step.\n",
    "* L2 regularization losses on the weights of the critic and the actor are used."
   ]
  },
  {
   "cell_type": "markdown",
   "id": "84ebc061",
   "metadata": {
    "papermill": {
     "duration": 0.044149,
     "end_time": "2024-06-19T08:18:33.784674",
     "exception": false,
     "start_time": "2024-06-19T08:18:33.740525",
     "status": "completed"
    },
    "tags": []
   },
   "source": [
    "## Full Algorithm\n",
    "\n",
    "Here is psedocode of the DDPGfD alogrithm:\n",
    "\n",
    "<img src=\"https://wikidocs.net/images/page/169334/Pseudo_DDPGfD.PNG\" alt=\"DDPGfD Algorithm\">"
   ]
  },
  {
   "cell_type": "markdown",
   "id": "729e0e1a",
   "metadata": {
    "papermill": {
     "duration": 0.043719,
     "end_time": "2024-06-19T08:18:33.872840",
     "exception": false,
     "start_time": "2024-06-19T08:18:33.829121",
     "status": "completed"
    },
    "tags": []
   },
   "source": [
    "## Import modules"
   ]
  },
  {
   "cell_type": "code",
   "execution_count": 22,
   "id": "a0b39cda",
   "metadata": {
    "execution": {
     "iopub.execute_input": "2024-06-19T08:18:33.963236Z",
     "iopub.status.busy": "2024-06-19T08:18:33.962809Z",
     "iopub.status.idle": "2024-06-19T08:18:37.343418Z",
     "shell.execute_reply": "2024-06-19T08:18:37.341973Z"
    },
    "papermill": {
     "duration": 3.429728,
     "end_time": "2024-06-19T08:18:37.346899",
     "exception": false,
     "start_time": "2024-06-19T08:18:33.917171",
     "status": "completed"
    },
    "tags": []
   },
   "outputs": [
    {
     "name": "stdout",
     "output_type": "stream",
     "text": [
      "--2024-06-19 08:18:35--  https://raw.githubusercontent.com/mrsyee/pg-is-all-you-need/master/segment_tree.py\r\n",
      "Resolving raw.githubusercontent.com (raw.githubusercontent.com)... 185.199.111.133, 185.199.109.133, 185.199.110.133, ...\r\n",
      "Connecting to raw.githubusercontent.com (raw.githubusercontent.com)|185.199.111.133|:443... connected.\r\n",
      "HTTP request sent, awaiting response... 200 OK\r\n",
      "Length: 4268 (4.2K) [text/plain]\r\n",
      "Saving to: 'segment_tree.py'\r\n",
      "\r\n",
      "segment_tree.py     100%[===================>]   4.17K  --.-KB/s    in 0s      \r\n",
      "\r\n",
      "2024-06-19 08:18:35 (33.9 MB/s) - 'segment_tree.py' saved [4268/4268]\r\n",
      "\r\n",
      "--2024-06-19 08:18:36--  https://raw.githubusercontent.com/mrsyee/pg-is-all-you-need/master/demo.pkl\r\n",
      "Resolving raw.githubusercontent.com (raw.githubusercontent.com)... 185.199.110.133, 185.199.108.133, 185.199.109.133, ...\r\n",
      "Connecting to raw.githubusercontent.com (raw.githubusercontent.com)|185.199.110.133|:443... connected.\r\n",
      "HTTP request sent, awaiting response... 200 OK\r\n",
      "Length: 179797 (176K) [application/octet-stream]\r\n",
      "Saving to: 'demo.pkl'\r\n",
      "\r\n",
      "demo.pkl            100%[===================>] 175.58K  --.-KB/s    in 0.1s    \r\n",
      "\r\n",
      "2024-06-19 08:18:37 (1.56 MB/s) - 'demo.pkl' saved [179797/179797]\r\n",
      "\r\n"
     ]
    }
   ],
   "source": [
    "import os\n",
    "import copy\n",
    "import random\n",
    "from collections import deque\n",
    "from typing import Deque, Dict, List, Tuple\n",
    "\n",
    "import gym\n",
    "import matplotlib.pyplot as plt\n",
    "import numpy as np\n",
    "import torch\n",
    "import torch.nn as nn\n",
    "import torch.nn.functional as F\n",
    "import torch.optim as optim\n",
    "\n",
    "from IPython.display import clear_output\n",
    "\n",
    "if not os.path.exists(\"/kaggle/working/segment_tree.py\") and not os.path.exists(\"/kaggle/working/demo.pkl\"):\n",
    "    # download segment tree module\n",
    "    !wget https://raw.githubusercontent.com/mrsyee/pg-is-all-you-need/master/segment_tree.py\n",
    "    # download demo.pkl\n",
    "    !wget https://raw.githubusercontent.com/mrsyee/pg-is-all-you-need/master/demo.pkl\n",
    "        \n",
    "from segment_tree import MinSegmentTree, SumSegmentTree"
   ]
  },
  {
   "cell_type": "markdown",
   "id": "7d841887",
   "metadata": {
    "papermill": {
     "duration": 0.049606,
     "end_time": "2024-06-19T08:18:37.455311",
     "exception": false,
     "start_time": "2024-06-19T08:18:37.405705",
     "status": "completed"
    },
    "tags": []
   },
   "source": [
    "## Set Random Seed "
   ]
  },
  {
   "cell_type": "code",
   "execution_count": 23,
   "id": "903614f3",
   "metadata": {
    "execution": {
     "iopub.execute_input": "2024-06-19T08:18:37.548994Z",
     "iopub.status.busy": "2024-06-19T08:18:37.548484Z",
     "iopub.status.idle": "2024-06-19T08:18:37.557490Z",
     "shell.execute_reply": "2024-06-19T08:18:37.556162Z"
    },
    "papermill": {
     "duration": 0.059652,
     "end_time": "2024-06-19T08:18:37.560278",
     "exception": false,
     "start_time": "2024-06-19T08:18:37.500626",
     "status": "completed"
    },
    "tags": []
   },
   "outputs": [],
   "source": [
    "if torch.backends.cudnn.enabled:\n",
    "    torch.backends.cudnn.benchmark = False\n",
    "    torch.backends.cudnn.deterministic = True\n",
    "\n",
    "seed = 777\n",
    "torch.manual_seed(seed)\n",
    "np.random.seed(seed)\n",
    "random.seed(seed)"
   ]
  },
  {
   "cell_type": "markdown",
   "id": "1348b20f",
   "metadata": {
    "papermill": {
     "duration": 0.045105,
     "end_time": "2024-06-19T08:18:37.651536",
     "exception": false,
     "start_time": "2024-06-19T08:18:37.606431",
     "status": "completed"
    },
    "tags": []
   },
   "source": [
    "# Replay buffer for N-step learning with demonstration\n",
    "\n",
    "There are a little bit changes in Replay buffer for N-step learning with demonstration.\n",
    "\n",
    "First, we use `deque` to store the most recent n-step transitions.\n",
    "\n",
    "```python\n",
    "    self.n_step_buffer = deque(maxlen=n_step)\n",
    "```\n",
    "\n",
    "You can see it doesn't actually store a transition in the buffer, unless `n_step_buffer` is full.\n",
    "\n",
    "```\n",
    "    # in store method\n",
    "    if len(self.n_step_buffer) < self.n_step:\n",
    "        return ()\n",
    "```\n",
    "\n",
    "When the length of `n_step_buffer` becomes equal to N, it eventually stores the N-step transition, which is calculated by `get_n_step_info` method (reference `util.py`). Furthermore, there are additional implementations for saving loaded demos. (Please see *03.DDPG.ipynb* for detailed description of the basic replay buffer.)"
   ]
  },
  {
   "cell_type": "code",
   "execution_count": 24,
   "id": "700fde32",
   "metadata": {
    "execution": {
     "iopub.execute_input": "2024-06-19T08:18:37.745092Z",
     "iopub.status.busy": "2024-06-19T08:18:37.744645Z",
     "iopub.status.idle": "2024-06-19T08:18:37.772548Z",
     "shell.execute_reply": "2024-06-19T08:18:37.770870Z"
    },
    "papermill": {
     "duration": 0.078212,
     "end_time": "2024-06-19T08:18:37.775600",
     "exception": false,
     "start_time": "2024-06-19T08:18:37.697388",
     "status": "completed"
    },
    "tags": []
   },
   "outputs": [],
   "source": [
    "class ReplayBuffer:\n",
    "    \"\"\"A simple numpy replay buffer.\"\"\"\n",
    "\n",
    "    def __init__(self, obs_dim: int, size: int, batch_size: int = 32,         \n",
    "                 gamma: float = 0.99, demo: list = None, n_step: int = 1):\n",
    "        \"\"\"Initializate.\"\"\"\n",
    "        self.obs_buf = np.zeros([size, obs_dim], dtype=np.float32)  # observation/state buffer\n",
    "        self.next_obs_buf = np.zeros([size, obs_dim], dtype=np.float32) # next state buffer\n",
    "        self.acts_buf = np.zeros([size], dtype=np.float32) # actions buffer\n",
    "        self.rews_buf = np.zeros([size], dtype=np.float32) # rewards buffer\n",
    "        self.done_buf = np.zeros([size], dtype=np.float32) # done buffer\n",
    "        self.max_size, self.batch_size = size, batch_size\n",
    "        self.ptr, self.size = 0, 0\n",
    "        \n",
    "        # for N-step Learning\n",
    "        self.n_step_buffer = deque(maxlen=n_step)\n",
    "        self.n_step = n_step\n",
    "        self.gamma = gamma\n",
    "        \n",
    "        # for demonstration\n",
    "        self.demo_size = len(demo) if demo else 0\n",
    "        self.demo = demo\n",
    "        \n",
    "        if self.demo:\n",
    "            self.ptr += self.demo_size\n",
    "            self.size += self.demo_size\n",
    "            for ptr, d in enumerate(self.demo):\n",
    "                state, action, reward, next_state, done = d\n",
    "                self.obs_buf[ptr] = state\n",
    "                self.acts_buf[ptr] = np.array(action)\n",
    "                self.rews_buf[ptr] = reward\n",
    "                self.next_obs_buf[ptr] = next_state\n",
    "                self.done_buf[ptr] = done\n",
    "\n",
    "    def store(self, obs: np.ndarray, act: np.ndarray, rew: float, next_obs: np.ndarray, done: bool,\n",
    "    ) -> Tuple[np.ndarray, np.ndarray, float, np.ndarray, bool]:\n",
    "        \"\"\"Store the transition in buffer.\"\"\"\n",
    "        \n",
    "        transition = (obs, act, rew, next_obs, done)\n",
    "        self.n_step_buffer.append(transition)\n",
    "        \n",
    "        # single step transition is not ready\n",
    "        if len(self.n_step_buffer) < self.n_step:\n",
    "            return ()\n",
    "        \n",
    "        # make a n-step transition\n",
    "        rew, next_obs, done = self._get_n_step_info()\n",
    "        obs, act = self.n_step_buffer[0][:2]\n",
    "        \n",
    "        self.obs_buf[self.ptr] = obs\n",
    "        self.next_obs_buf[self.ptr] = next_obs\n",
    "        self.acts_buf[self.ptr] = act\n",
    "        self.rews_buf[self.ptr] = rew\n",
    "        self.done_buf[self.ptr] = done\n",
    "        \n",
    "        self.ptr += 1\n",
    "        self.ptr = self.demo_size if self.ptr % self.max_size == 0 else self.ptr\n",
    "        self.size = min(self.size + 1, self.max_size)\n",
    "        \n",
    "        return self.n_step_buffer[0]\n",
    "\n",
    "    def sample_batch(self, indices: List[int] = None) -> Dict[str, np.ndarray]:\n",
    "        \"\"\"Randomly sample a batch of experiences from memory.\"\"\"\n",
    "        assert len(self) >= self.batch_size\n",
    "        \n",
    "        if indices is None:\n",
    "            indices = np.random.choice(len(self), size=self.batch_size, replace=False)\n",
    "            \n",
    "        return dict(\n",
    "            obs=self.obs_buf[indices],\n",
    "            next_obs=self.next_obs_buf[indices],\n",
    "            acts=self.acts_buf[indices],\n",
    "            rews=self.rews_buf[indices],\n",
    "            done=self.done_buf[indices],\n",
    "            # for N-step learning\n",
    "            indices=indices,\n",
    "        )\n",
    "    \n",
    "    def _get_n_step_info(self) -> Tuple[np.int64, np.ndarray, bool]:\n",
    "        \"\"\"Return n step rew, next_obs, and done.\"\"\"\n",
    "        # info of the last transition\n",
    "        rew, next_obs, done = self.n_step_buffer[-1][-3:]\n",
    "\n",
    "        for transition in reversed(list(self.n_step_buffer)[:-1]):\n",
    "            r, n_o, d = transition[-3:]\n",
    "\n",
    "            rew = r + self.gamma * rew * (1 - d)\n",
    "            next_obs, done = (n_o, d) if d else (next_obs, done)\n",
    "\n",
    "        return rew, next_obs, done\n",
    "\n",
    "    def __len__(self) -> int:\n",
    "        return self.size"
   ]
  },
  {
   "cell_type": "markdown",
   "id": "403b856b",
   "metadata": {
    "papermill": {
     "duration": 0.045368,
     "end_time": "2024-06-19T08:18:37.866638",
     "exception": false,
     "start_time": "2024-06-19T08:18:37.821270",
     "status": "completed"
    },
    "tags": []
   },
   "source": [
    "# Prioritized Replay Buffer with demonstration\n",
    "\n",
    "The key concept of PER's implementation is *Segment Tree*. It efficiently stores and samples transitions while managing the priorities of them (reference `segment_tree.py`). We recommend you understand how it works before you move on. Here are references for you:\n",
    "\n",
    "- https://www.geeksforgeeks.org/segment-tree-set-1-sum-of-given-range/\n",
    "\n",
    "In addtion, `epsilon_d` is a positive constant for demonstration transitions to increase their probability of getting sampled."
   ]
  },
  {
   "cell_type": "code",
   "execution_count": 25,
   "id": "2056a577",
   "metadata": {
    "execution": {
     "iopub.execute_input": "2024-06-19T08:18:37.959761Z",
     "iopub.status.busy": "2024-06-19T08:18:37.958660Z",
     "iopub.status.idle": "2024-06-19T08:18:37.987568Z",
     "shell.execute_reply": "2024-06-19T08:18:37.985992Z"
    },
    "papermill": {
     "duration": 0.078702,
     "end_time": "2024-06-19T08:18:37.990567",
     "exception": false,
     "start_time": "2024-06-19T08:18:37.911865",
     "status": "completed"
    },
    "tags": []
   },
   "outputs": [],
   "source": [
    "class PrioritizedReplayBuffer(ReplayBuffer):\n",
    "    \"\"\"Prioritized Replay buffer with demonstrations.\"\"\"\n",
    "    \n",
    "    def __init__(self, obs_dim: int, size: int, batch_size: int = 32, \n",
    "        gamma: float = 0.99, alpha: float = 0.6, epsilon_d: float = 1.0,\n",
    "        demo: list = None,\n",
    "    ):\n",
    "        \"\"\"Initialize.\"\"\"\n",
    "        assert alpha >= 0\n",
    "        \n",
    "        super(PrioritizedReplayBuffer, self).__init__(\n",
    "            obs_dim, size, batch_size, gamma, demo, n_step=1 \n",
    "        )\n",
    "        self.max_priority, self.tree_ptr = 1.0, 0\n",
    "        self.alpha = alpha\n",
    "        self.epsilon_d = epsilon_d\n",
    "        \n",
    "        # capacity must be positive and a power of 2.\n",
    "        tree_capacity = 1\n",
    "        while tree_capacity < self.max_size:\n",
    "            tree_capacity *= 2\n",
    "\n",
    "        self.sum_tree = SumSegmentTree(tree_capacity)\n",
    "        self.min_tree = MinSegmentTree(tree_capacity)\n",
    "        \n",
    "        # for init priority of demo\n",
    "        self.tree_ptr = self.demo_size\n",
    "        for i in range(self.demo_size):\n",
    "            self.sum_tree[i] = self.max_priority ** self.alpha\n",
    "            self.min_tree[i] = self.max_priority ** self.alpha\n",
    "        \n",
    "    def store(self, obs: np.ndarray, act: int, rew: float, next_obs: np.ndarray, done: bool):\n",
    "        \"\"\"Store experience and priority.\"\"\"\n",
    "        transition = super().store(obs, act, rew, next_obs, done)\n",
    "        \n",
    "        if transition:\n",
    "            self.sum_tree[self.tree_ptr] = self.max_priority ** self.alpha\n",
    "            self.min_tree[self.tree_ptr] = self.max_priority ** self.alpha\n",
    "\n",
    "            self.tree_ptr += 1\n",
    "            if self.tree_ptr % self.max_size == 0:\n",
    "                self.tree_ptr = self.demo_size\n",
    "            \n",
    "        return transition\n",
    "\n",
    "    def sample_batch(self, beta: float = 0.4) -> Dict[str, np.ndarray]:\n",
    "        \"\"\"Sample a batch of experiences.\"\"\"\n",
    "        assert len(self) >= self.batch_size\n",
    "        assert beta > 0\n",
    "        \n",
    "        indices = self._sample_proportional()\n",
    "        \n",
    "        obs = self.obs_buf[indices]\n",
    "        next_obs = self.next_obs_buf[indices]\n",
    "        acts = self.acts_buf[indices]\n",
    "        rews = self.rews_buf[indices]\n",
    "        done = self.done_buf[indices]\n",
    "        weights = np.array([self._calculate_weight(i, beta) for i in indices])\n",
    "        epsilon_d = np.array(\n",
    "            [self.epsilon_d if i < self.demo_size else 0.0 for i in indices]\n",
    "        )\n",
    "        \n",
    "        return dict(\n",
    "            obs=obs,\n",
    "            next_obs=next_obs,\n",
    "            acts=acts,\n",
    "            rews=rews,\n",
    "            done=done,\n",
    "            weights=weights,\n",
    "            epsilon_d=epsilon_d,\n",
    "            indices=indices,\n",
    "        )\n",
    "        \n",
    "    def update_priorities(self, indices: List[int], priorities: np.ndarray):\n",
    "        \"\"\"Update priorities of sampled transitions.\"\"\"\n",
    "        assert len(indices) == len(priorities)\n",
    "\n",
    "        for idx, priority in zip(indices, priorities):\n",
    "            assert priority > 0\n",
    "            assert 0 <= idx < len(self)\n",
    "\n",
    "            self.sum_tree[idx] = priority ** self.alpha\n",
    "            self.min_tree[idx] = priority ** self.alpha\n",
    "\n",
    "            self.max_priority = max(self.max_priority, priority)\n",
    "            \n",
    "    def _sample_proportional(self) -> List[int]:\n",
    "        \"\"\"Sample indices based on proportions.\"\"\"\n",
    "        indices = []\n",
    "        p_total = self.sum_tree.sum(0, len(self) - 1)\n",
    "        segment = p_total / self.batch_size\n",
    "        \n",
    "        for i in range(self.batch_size):\n",
    "            a = segment * i\n",
    "            b = segment * (i + 1)\n",
    "            upperbound = random.uniform(a, b)\n",
    "            idx = self.sum_tree.retrieve(upperbound)\n",
    "            indices.append(idx)\n",
    "            \n",
    "        return indices\n",
    "    \n",
    "    def _calculate_weight(self, idx: int, beta: float):\n",
    "        \"\"\"Calculate the weight of the experience at idx.\"\"\"\n",
    "        # get max weight\n",
    "        p_min = self.min_tree.min() / self.sum_tree.sum()\n",
    "        max_weight = (p_min * len(self)) ** (-beta)\n",
    "        \n",
    "        # calculate weights\n",
    "        p_sample = self.sum_tree[idx] / self.sum_tree.sum()\n",
    "        weight = (p_sample * len(self)) ** (-beta)\n",
    "        weight = weight / max_weight\n",
    "        \n",
    "        return weight"
   ]
  },
  {
   "cell_type": "markdown",
   "id": "3a5cfc90",
   "metadata": {
    "papermill": {
     "duration": 0.04569,
     "end_time": "2024-06-19T08:18:38.081692",
     "exception": false,
     "start_time": "2024-06-19T08:18:38.036002",
     "status": "completed"
    },
    "tags": []
   },
   "source": [
    "# OU Noise\n",
    "*Ornstein-Uhlenbeck* process generates temporally correlated exploration, and it effectively copes with physical control problems of inertia.\n",
    "\n",
    "$$\\large\n",
    "dx_t = \\theta(\\mu - x_t) dt + \\sigma dW_t\n",
    "$$\n",
    "\n",
    "Reference: \n",
    "- [Udacity github](https://github.com/udacity/deep-reinforcement-learning/blob/master/ddpg-pendulum/ddpg_agent.py)\n",
    "- [Wiki](https://en.wikipedia.org/wiki/Ornstein%E2%80%93Uhlenbeck_process)"
   ]
  },
  {
   "cell_type": "code",
   "execution_count": 26,
   "id": "c92a13b1",
   "metadata": {
    "execution": {
     "iopub.execute_input": "2024-06-19T08:18:38.175755Z",
     "iopub.status.busy": "2024-06-19T08:18:38.175327Z",
     "iopub.status.idle": "2024-06-19T08:18:38.186011Z",
     "shell.execute_reply": "2024-06-19T08:18:38.184743Z"
    },
    "papermill": {
     "duration": 0.060424,
     "end_time": "2024-06-19T08:18:38.188659",
     "exception": false,
     "start_time": "2024-06-19T08:18:38.128235",
     "status": "completed"
    },
    "tags": []
   },
   "outputs": [],
   "source": [
    "class OUNoise:\n",
    "    \"\"\"Ornstein-Uhlenbeck process.\n",
    "    Taken from Udacity deep-reinforcement-learning github repository:\n",
    "    https://github.com/udacity/deep-reinforcement-learning/blob/master/\n",
    "    ddpg-pendulum/ddpg_agent.py\n",
    "    \"\"\"\n",
    "\n",
    "    def __init__(\n",
    "        self, \n",
    "        size: int, \n",
    "        mu: float = 0.0, \n",
    "        theta: float = 0.15, \n",
    "        sigma: float = 0.2,\n",
    "    ):\n",
    "        \"\"\"Initialize parameters and noise process.\"\"\"\n",
    "        self.state = np.float64(0.0)\n",
    "        self.mu = mu * np.ones(size)\n",
    "        self.theta = theta\n",
    "        self.sigma = sigma\n",
    "        self.reset()\n",
    "\n",
    "    def reset(self):\n",
    "        \"\"\"Reset the internal state (= noise) to mean (mu).\"\"\"\n",
    "        self.state = copy.copy(self.mu)\n",
    "\n",
    "    def sample(self) -> np.ndarray:\n",
    "        \"\"\"Update internal state and return it as a noise sample.\"\"\"\n",
    "        x = self.state\n",
    "        dx = self.theta * (self.mu - x) + self.sigma * np.array(\n",
    "            [random.random() for _ in range(len(x))]\n",
    "        )\n",
    "        self.state = x + dx\n",
    "        return self.state"
   ]
  },
  {
   "cell_type": "markdown",
   "id": "5bc81c9b",
   "metadata": {
    "papermill": {
     "duration": 0.044971,
     "end_time": "2024-06-19T08:18:38.278714",
     "exception": false,
     "start_time": "2024-06-19T08:18:38.233743",
     "status": "completed"
    },
    "tags": []
   },
   "source": [
    "# Network\n",
    "We are going to use two separated networks for actor and critic. The actor network has three fully connected layers and three non-linearity functions, *ReLU* for hidden layers and *tanh* for the output layer. On the other hand, the critic network has three fully connected layers, but it used two activation functions for hidden layers *ReLU*. Plus, its input sizes of critic network are sum of state sizes and action sizes. One thing to note is that we initialize the final layer's weights and biases so that they are *uniformly distributed.*"
   ]
  },
  {
   "cell_type": "code",
   "execution_count": 27,
   "id": "288fe035",
   "metadata": {
    "execution": {
     "iopub.execute_input": "2024-06-19T08:18:38.375423Z",
     "iopub.status.busy": "2024-06-19T08:18:38.375008Z",
     "iopub.status.idle": "2024-06-19T08:18:38.384737Z",
     "shell.execute_reply": "2024-06-19T08:18:38.383665Z"
    },
    "papermill": {
     "duration": 0.06315,
     "end_time": "2024-06-19T08:18:38.387497",
     "exception": false,
     "start_time": "2024-06-19T08:18:38.324347",
     "status": "completed"
    },
    "tags": []
   },
   "outputs": [],
   "source": [
    "class Actor(nn.Module):\n",
    "    def __init__(\n",
    "        self, \n",
    "        in_dim: int, \n",
    "        out_dim: int,\n",
    "        init_w: float = 3e-3,\n",
    "    ):\n",
    "        \"\"\"Initialize.\"\"\"\n",
    "        super(Actor, self).__init__()\n",
    "        \n",
    "        self.hidden1 = nn.Linear(in_dim, 128)\n",
    "        self.hidden2 = nn.Linear(128, 128)\n",
    "        self.out = nn.Linear(128, out_dim)\n",
    "        \n",
    "        self.out.weight.data.uniform_(-init_w, init_w)\n",
    "        self.out.bias.data.uniform_(-init_w, init_w)\n",
    "\n",
    "    def forward(self, state: torch.Tensor) -> torch.Tensor:\n",
    "        \"\"\"Forward method implementation.\"\"\"\n",
    "        x = F.relu(self.hidden1(state))\n",
    "        x = F.relu(self.hidden2(x))\n",
    "        action = self.out(x).tanh()\n",
    "        \n",
    "        return action"
   ]
  },
  {
   "cell_type": "code",
   "execution_count": 28,
   "id": "7a5348e7",
   "metadata": {
    "execution": {
     "iopub.execute_input": "2024-06-19T08:18:38.479595Z",
     "iopub.status.busy": "2024-06-19T08:18:38.479156Z",
     "iopub.status.idle": "2024-06-19T08:18:38.489498Z",
     "shell.execute_reply": "2024-06-19T08:18:38.488361Z"
    },
    "papermill": {
     "duration": 0.059124,
     "end_time": "2024-06-19T08:18:38.491984",
     "exception": false,
     "start_time": "2024-06-19T08:18:38.432860",
     "status": "completed"
    },
    "tags": []
   },
   "outputs": [],
   "source": [
    "class Critic(nn.Module):\n",
    "    def __init__(\n",
    "        self, \n",
    "        in_dim: int, \n",
    "        init_w: float = 3e-3,\n",
    "    ):\n",
    "        \"\"\"Initialize.\"\"\"\n",
    "        super(Critic, self).__init__()\n",
    "        \n",
    "        self.hidden1 = nn.Linear(in_dim, 128)\n",
    "        self.hidden2 = nn.Linear(128, 128)\n",
    "        self.out = nn.Linear(128, 1)\n",
    "        \n",
    "        self.out.weight.data.uniform_(-init_w, init_w)\n",
    "        self.out.bias.data.uniform_(-init_w, init_w)\n",
    "\n",
    "    def forward(\n",
    "        self, state: torch.Tensor, action: torch.Tensor\n",
    "    ) -> torch.Tensor:\n",
    "        \"\"\"Forward method implementation.\"\"\"\n",
    "        x = torch.cat((state, action), dim=-1)\n",
    "        x = F.relu(self.hidden1(x))\n",
    "        x = F.relu(self.hidden2(x))\n",
    "        value = self.out(x)\n",
    "        \n",
    "        return value"
   ]
  },
  {
   "cell_type": "markdown",
   "id": "4f9cb7fb",
   "metadata": {
    "papermill": {
     "duration": 0.044712,
     "end_time": "2024-06-19T08:18:38.582141",
     "exception": false,
     "start_time": "2024-06-19T08:18:38.537429",
     "status": "completed"
    },
    "tags": []
   },
   "source": [
    "# DDPGfD Agent\n",
    "Here is a summary of DDPGfDAgent class.\n",
    "\n",
    "| Method           | Note                                                 |\n",
    "|---               |---                                                  |\n",
    "|select_action     | select an action from the input state.               |\n",
    "|step              | take an action and return the response of the env.   |\n",
    "|update_model      | update the model by gradient descent.                |\n",
    "|train             | train the agent during num_frames.                   |\n",
    "|test              | test the agent (1 episode).                          |\n",
    "|\\_pretrain        |pretraining steps.|\n",
    "|\\_get_critic_loss   | return element-wise critic loss.                     |\n",
    "|\\_target_soft_update| soft update from the local model to the target model.|\n",
    "|\\_get_n_step_info_from_demo | return 1 step and n step demos. |"
   ]
  },
  {
   "cell_type": "code",
   "execution_count": 29,
   "id": "f7a8f57f",
   "metadata": {
    "execution": {
     "iopub.execute_input": "2024-06-19T08:18:38.674876Z",
     "iopub.status.busy": "2024-06-19T08:18:38.674458Z",
     "iopub.status.idle": "2024-06-19T08:18:38.746954Z",
     "shell.execute_reply": "2024-06-19T08:18:38.745585Z"
    },
    "papermill": {
     "duration": 0.122769,
     "end_time": "2024-06-19T08:18:38.749798",
     "exception": false,
     "start_time": "2024-06-19T08:18:38.627029",
     "status": "completed"
    },
    "tags": []
   },
   "outputs": [],
   "source": [
    "class DDPGfDAgent:\n",
    "    \"\"\"DDPGfDAgent interacting with environment.\n",
    "    \n",
    "    Attribute:\n",
    "        env (gym.Env): openAI Gym environment\n",
    "        actor (nn.Module): target actor model to select actions\n",
    "        actor_target (nn.Module): actor model to predict next actions\n",
    "        actor_optimizer (Optimizer): optimizer for training actor\n",
    "        critic (nn.Module): critic model to predict state values\n",
    "        critic_target (nn.Module): target critic model to predict state values\n",
    "        critic_optimizer (Optimizer): optimizer for training critic\n",
    "        demo (list): demonstration\n",
    "        memory (ReplayBuffer): replay memory to store transitions\n",
    "        batch_size (int): batch size for sampling\n",
    "        gamma (float): discount factor\n",
    "        tau (float): parameter for soft target update\n",
    "        initial_random_steps (int): initial random action steps\n",
    "        pretrain_step (int): the number of step for pre-training\n",
    "        n_step (int): the number of multi step\n",
    "        use_n_step (bool): whether to use n_step memory\n",
    "        prior_eps (float): guarantees every transitions can be sampled\n",
    "        lambda1 (float): n-step return weight\n",
    "        lambda2 (float): l2 regularization weight\n",
    "        lambda3 (float): actor loss contribution of prior weight\n",
    "        noise (OUNoise): noise generator for exploration\n",
    "        device (torch.device): cpu / gpu\n",
    "        transition (list): temporory storage for the recent transition\n",
    "        total_step (int): total step numbers\n",
    "        is_test (bool): flag to show the current mode (train / test)\n",
    "    \"\"\"\n",
    "    def __init__(self,\n",
    "        env: gym.Env,\n",
    "        memory_size: int,\n",
    "        batch_size: int,\n",
    "        ou_noise_theta: float,\n",
    "        ou_noise_sigma: float,\n",
    "        demo: list,\n",
    "        pretrain_step: int,\n",
    "        gamma: float = 0.99,\n",
    "        tau: float = 5e-3,\n",
    "        initial_random_steps: int = 1e4,\n",
    "        # PER parameters\n",
    "        alpha: float = 0.3,\n",
    "        beta: float = 1.0,\n",
    "        prior_eps: float = 1e-6,\n",
    "        # N-step Learning\n",
    "        n_step: int = 3,\n",
    "        # loss parameters\n",
    "        lambda1: float = 1.0, # N-step return weight\n",
    "        lambda2: float = 1e-4, # l2 regularization weight\n",
    "        lambda3: float = 1.0, # actor loss contribution of prior weight\n",
    "    ):\n",
    "        \"\"\"Initialize.\"\"\"\n",
    "        obs_dim = env.observation_space.shape[0]\n",
    "        action_dim = env.action_space.shape[0]\n",
    "\n",
    "        self.env = env\n",
    "        self.batch_size = batch_size\n",
    "        self.pretrain_step = pretrain_step\n",
    "        self.gamma = gamma\n",
    "        self.tau = tau\n",
    "        self.initial_random_steps = initial_random_steps\n",
    "        self.lambda1 = lambda1\n",
    "        self.lambda3 = lambda3\n",
    "        \n",
    "        self.demo = demo\n",
    "        demos_1_step, demos_n_step = [], []\n",
    "        if self.demo:\n",
    "            demos_1_step, demos_n_step = self._get_n_step_info_from_demo(demo, n_step)\n",
    "        \n",
    "        # PER\n",
    "        # memory for 1-step Learning\n",
    "        self.beta = beta\n",
    "        self.prior_eps = prior_eps\n",
    "        self.memory = PrioritizedReplayBuffer(obs_dim, memory_size, batch_size, gamma, \n",
    "                                              alpha, demo=demos_1_step)\n",
    "        \n",
    "        # memory for N-step Learning\n",
    "        self.use_n_step = True if n_step > 1 else False\n",
    "        if self.use_n_step:\n",
    "            self.n_step = n_step\n",
    "            self.memory_n = ReplayBuffer(obs_dim, memory_size, batch_size, gamma, \n",
    "                                         demos_n_step, self.n_step)\n",
    "                \n",
    "        # noise\n",
    "        self.noise = OUNoise(action_dim, theta=ou_noise_theta, sigma=ou_noise_sigma)\n",
    "\n",
    "        # device: cpu / gpu\n",
    "        self.device = torch.device(\"cuda\" if torch.cuda.is_available() else \"cpu\")\n",
    "        print(self.device)\n",
    "\n",
    "        # networks\n",
    "        self.actor = Actor(obs_dim, action_dim).to(self.device)\n",
    "        self.actor_target = Actor(obs_dim, action_dim).to(self.device)\n",
    "        self.actor_target.load_state_dict(self.actor.state_dict())\n",
    "        \n",
    "        self.critic = Critic(obs_dim + action_dim).to(self.device)\n",
    "        self.critic_target = Critic(obs_dim + action_dim).to(self.device)\n",
    "        self.critic_target.load_state_dict(self.critic.state_dict())\n",
    "\n",
    "        # optimizer\n",
    "        self.actor_optimizer = optim.Adam(self.actor.parameters(), lr=3e-4,weight_decay=lambda2)\n",
    "        self.critic_optimizer = optim.Adam(self.critic.parameters(), lr=1e-3,weight_decay=lambda2)\n",
    "        \n",
    "        # transition to store in memory\n",
    "        self.transition = list()\n",
    "        \n",
    "        # total steps count\n",
    "        self.total_step = 0\n",
    "\n",
    "        # mode: train / test\n",
    "        self.is_test = False\n",
    "    \n",
    "    def select_action(self, state: np.ndarray) -> np.ndarray:\n",
    "        \"\"\"Select an action from the input state.\"\"\"\n",
    "        # if initial random action should be conducted\n",
    "        if self.total_step < self.initial_random_steps and not self.is_test:\n",
    "            selected_action = self.env.action_space.sample()\n",
    "        else:\n",
    "            selected_action = self.actor(torch.FloatTensor(state).to(self.device)).detach().cpu().numpy()\n",
    "        \n",
    "        # add noise for exploration during training\n",
    "        if not self.is_test:\n",
    "            noise = self.noise.sample()\n",
    "            selected_action = np.clip(selected_action + noise, -1.0, 1.0)\n",
    "        \n",
    "        self.transition = [state, selected_action]\n",
    "        \n",
    "        return selected_action\n",
    "    \n",
    "    def step(self, action: np.ndarray) -> Tuple[np.ndarray, np.float64, bool]:\n",
    "        \"\"\"Take an action and return the response of the env.\"\"\"\n",
    "        next_state, reward, done, _, _ = self.env.step(action)\n",
    "        \n",
    "        if not self.is_test:\n",
    "            self.transition += [reward, next_state, done]\n",
    "            \n",
    "            # N-step transition\n",
    "            transition = self.transition\n",
    "            if self.use_n_step:\n",
    "                transition = self.memory_n.store(*self.transition)\n",
    "\n",
    "            # add a single step transition\n",
    "            if transition:\n",
    "                self.memory.store(*transition)\n",
    "    \n",
    "        return next_state, reward, done\n",
    "    \n",
    "    def update_model(self) -> Tuple[torch.Tensor, ...]:\n",
    "        \"\"\"Update the model by gradient descent.\"\"\"\n",
    "        device = self.device  # for shortening the following lines\n",
    "        \n",
    "        samples = self.memory.sample_batch(self.beta)        \n",
    "        state = torch.FloatTensor(samples[\"obs\"]).to(device)\n",
    "        action = torch.FloatTensor(samples[\"acts\"].reshape(-1, 1)).to(device)\n",
    "\n",
    "        weights = torch.FloatTensor(samples[\"weights\"].reshape(-1, 1)).to(device)\n",
    "        epsilon_d = samples[\"epsilon_d\"]\n",
    "        indices = samples[\"indices\"]\n",
    "        \n",
    "        # train critic\n",
    "        # 1-step loss\n",
    "        critic_loss_element_wise = self._get_critic_loss(samples, self.gamma)\n",
    "        critic_loss = torch.mean(critic_loss_element_wise * weights)\n",
    "        \n",
    "        # n-step loss\n",
    "        if self.use_n_step:\n",
    "            samples_n = self.memory_n.sample_batch(indices)\n",
    "            n_gamma = self.gamma ** self.n_step\n",
    "            critic_loss_n_element_wise = self._get_critic_loss(samples_n, n_gamma)\n",
    "            \n",
    "            # to update loss and priorities\n",
    "            critic_loss_element_wise += (critic_loss_n_element_wise * self.lambda1)\n",
    "            critic_loss = torch.mean(critic_loss_element_wise * weights) \n",
    "        \n",
    "        self.critic_optimizer.zero_grad()\n",
    "        critic_loss.backward()\n",
    "        self.critic_optimizer.step()\n",
    "                \n",
    "        # train actor\n",
    "        actor_loss_element_wise = -self.critic(state, self.actor(state))\n",
    "        actor_loss = torch.mean(actor_loss_element_wise * weights)\n",
    "        \n",
    "        self.actor_optimizer.zero_grad()\n",
    "        actor_loss.backward()\n",
    "        self.actor_optimizer.step()\n",
    "        \n",
    "        # target update\n",
    "        self._target_soft_update()\n",
    "        \n",
    "        # PER: update priorities\n",
    "        new_priorities = critic_loss_element_wise\n",
    "        new_priorities += self.lambda3 * actor_loss_element_wise.pow(2)\n",
    "        new_priorities += self.prior_eps\n",
    "        new_priorities = new_priorities.data.cpu().numpy().squeeze()\n",
    "        new_priorities += epsilon_d\n",
    "        self.memory.update_priorities(indices, new_priorities)\n",
    "        \n",
    "        # check the number of sampling demos\n",
    "        demo_idxs = np.where(epsilon_d != 0.0)\n",
    "        n_demo = demo_idxs[0].size\n",
    "        \n",
    "        return actor_loss.data, critic_loss.data, n_demo\n",
    "    \n",
    "    def _pretrain(self) -> Tuple[List[torch.Tensor], List[torch.Tensor]]:\n",
    "        \"\"\"Pretraining steps.\"\"\"\n",
    "        actor_losses = []\n",
    "        critic_losses = []\n",
    "        print(\"Pre-Train %d step.\" % self.pretrain_step)\n",
    "        for _ in range(1, self.pretrain_step + 1):\n",
    "            actor_loss, critic_loss, _ = self.update_model()\n",
    "            actor_losses.append(actor_loss.data)\n",
    "            critic_losses.append(critic_loss.data)\n",
    "        print(\"Pre-Train Complete!\\n\")\n",
    "        return actor_losses, critic_losses\n",
    "    \n",
    "    def train(self, num_frames: int, plotting_interval: int = 200):\n",
    "        \"\"\"Train the agent.\"\"\"\n",
    "        self.is_test = False\n",
    "        \n",
    "        state, _ = self.env.reset()\n",
    "        actor_losses, critic_losses, n_demo_list, scores = [], [], [], []\n",
    "        score = 0\n",
    "        \n",
    "        if self.demo:\n",
    "            output = self._pretrain()\n",
    "            actor_losses.extend(output[0])\n",
    "            critic_losses.extend(output[1])\n",
    "        \n",
    "        for self.total_step in range(1, num_frames + 1):\n",
    "            action = self.select_action(state)\n",
    "            next_state, reward, done = self.step(action)\n",
    "\n",
    "            state = next_state\n",
    "            score += reward\n",
    "            \n",
    "            # PER: increase beta\n",
    "            fraction = min(self.total_step / num_frames, 1.0)\n",
    "            self.beta = self.beta + fraction * (1.0 - self.beta)\n",
    "\n",
    "            # if episode ends\n",
    "            if done:         \n",
    "                state = env.reset()\n",
    "                scores.append(score)\n",
    "                score = 0\n",
    "\n",
    "            # if training is ready\n",
    "            if (len(self.memory) >= self.batch_size and self.total_step > self.initial_random_steps):\n",
    "                actor_loss, critic_loss, n_demo = self.update_model()\n",
    "                actor_losses.append(actor_loss)\n",
    "                critic_losses.append(critic_loss)\n",
    "                n_demo_list.append(n_demo)\n",
    "            \n",
    "            # plotting\n",
    "            if self.total_step % plotting_interval == 0:\n",
    "                torch.save(self, 'model_fd.pt')\n",
    "                self._plot(self.total_step, scores, actor_losses, critic_losses, n_demo_list)\n",
    "                \n",
    "        self.env.close()\n",
    "        \n",
    "    def test(self):\n",
    "        \"\"\"Test the agent.\"\"\"\n",
    "        self.is_test = True\n",
    "        \n",
    "        state = self.env.reset()\n",
    "        done = False\n",
    "        score = 0\n",
    "        \n",
    "        frames = []\n",
    "        while not done:\n",
    "            frames.append()\n",
    "            action = self.select_action(state)\n",
    "            next_state, reward, done = self.step(action)\n",
    "\n",
    "            state = next_state\n",
    "            score += reward\n",
    "        \n",
    "        print(\"score: \", score)\n",
    "        self.env.close()\n",
    "        \n",
    "        return frames\n",
    "    \n",
    "    def _get_critic_loss(self, samples: Dict[str, np.ndarray], gamma: float) -> torch.Tensor:\n",
    "        \"\"\"Return element-wise critic loss.\"\"\"\n",
    "        device = self.device  # for shortening the following lines\n",
    "        \n",
    "        state = torch.FloatTensor(samples[\"obs\"]).to(device)\n",
    "        next_state = torch.FloatTensor(samples[\"next_obs\"]).to(device)\n",
    "        action = torch.FloatTensor(samples[\"acts\"].reshape(-1, 1)).to(device)\n",
    "        reward = torch.FloatTensor(samples[\"rews\"].reshape(-1, 1)).to(device)\n",
    "        done = torch.FloatTensor(samples[\"done\"].reshape(-1, 1)).to(device)\n",
    "        \n",
    "        masks = 1 - done\n",
    "        next_action = self.actor_target(next_state)\n",
    "        next_value = self.critic_target(next_state, next_action)\n",
    "        curr_return = reward + gamma * next_value * masks\n",
    "        curr_return = curr_return.to(device).detach()\n",
    "\n",
    "        # train critic\n",
    "        values = self.critic(state, action)\n",
    "        critic_loss_element_wise = (values - curr_return).pow(2)\n",
    "\n",
    "        return critic_loss_element_wise\n",
    "    \n",
    "    def _target_soft_update(self):\n",
    "        \"\"\"Soft-update: target = tau*local + (1-tau)*target.\"\"\"\n",
    "        tau = self.tau\n",
    "        \n",
    "        for t_param, l_param in zip(self.actor_target.parameters(), self.actor.parameters()):\n",
    "            t_param.data.copy_(tau * l_param.data + (1.0 - tau) * t_param.data)\n",
    "            \n",
    "        for t_param, l_param in zip(self.critic_target.parameters(), self.critic.parameters()):\n",
    "            t_param.data.copy_(tau * l_param.data + (1.0 - tau) * t_param.data)\n",
    "    \n",
    "    def _get_n_step_info_from_demo(self, demo: List, n_step: int) -> Tuple[List, List]:\n",
    "        \"\"\"Return 1 step and n step demos.\"\"\"\n",
    "        demos_1_step = list()\n",
    "        demos_n_step = list()\n",
    "        n_step_buffer: Deque = deque(maxlen=n_step)\n",
    "\n",
    "        for transition in demo:\n",
    "            n_step_buffer.append(transition)\n",
    "\n",
    "            if len(n_step_buffer) == n_step:\n",
    "                # add a single step transition\n",
    "                demos_1_step.append(n_step_buffer[0])\n",
    "\n",
    "                # add a multi step transition\n",
    "                curr_state, action = n_step_buffer[0][:2]\n",
    "                \n",
    "                # get n-step info\n",
    "                reward, next_state, done = n_step_buffer[-1][-3:]\n",
    "                for transition in reversed(list(n_step_buffer)[:-1]):\n",
    "                    r, n_o, d = transition[-3:]\n",
    "\n",
    "                    reward = r + self.gamma * reward * (1 - d)\n",
    "                    next_state, done = (n_o, d) if d else (next_state, done)\n",
    "                \n",
    "                transition = (curr_state, action, reward, next_state, done)\n",
    "                demos_n_step.append(transition)\n",
    "\n",
    "        return demos_1_step, demos_n_step\n",
    "    \n",
    "    def _plot(self, frame_idx: int, scores: List[float], actor_losses: List[float], \n",
    "              critic_losses: List[float], n_demo: List[int]):\n",
    "        \"\"\"Plot the training progresses.\"\"\"\n",
    "        def subplot(loc: int, title: str, values: List[float]):\n",
    "            plt.subplot(loc)\n",
    "            plt.title(title)\n",
    "            plt.plot(values)\n",
    "                   \n",
    "        subplot_params = [\n",
    "            (141, f\"frame {frame_idx}. score: {np.mean(scores[-10:])}\", scores),\n",
    "            (142, \"actor_loss\", actor_losses),\n",
    "            (143, \"critic_loss\", critic_losses),\n",
    "            (144, \"the number of sampling demos\", n_demo),\n",
    "        ]\n",
    "        \n",
    "        clear_output(True)\n",
    "        plt.figure(figsize=(30, 5))            \n",
    "        for loc, title, values in subplot_params:\n",
    "            subplot(loc, title, values)\n",
    "        plt.show()"
   ]
  },
  {
   "cell_type": "markdown",
   "id": "1da8531b",
   "metadata": {
    "papermill": {
     "duration": 0.044571,
     "end_time": "2024-06-19T08:18:38.839604",
     "exception": false,
     "start_time": "2024-06-19T08:18:38.795033",
     "status": "completed"
    },
    "tags": []
   },
   "source": [
    "# Environment\n",
    "*ActionNormalizer* is an action wrapper class to normalize the action values ranged in (-1. 1). Thanks to this class, we can make the agent simply select action values within the zero centered range (-1, 1)."
   ]
  },
  {
   "cell_type": "code",
   "execution_count": 30,
   "id": "91ef39f1",
   "metadata": {
    "execution": {
     "iopub.execute_input": "2024-06-19T08:18:38.931998Z",
     "iopub.status.busy": "2024-06-19T08:18:38.931051Z",
     "iopub.status.idle": "2024-06-19T08:18:38.940732Z",
     "shell.execute_reply": "2024-06-19T08:18:38.939588Z"
    },
    "papermill": {
     "duration": 0.058585,
     "end_time": "2024-06-19T08:18:38.943313",
     "exception": false,
     "start_time": "2024-06-19T08:18:38.884728",
     "status": "completed"
    },
    "tags": []
   },
   "outputs": [],
   "source": [
    "class ActionNormalizer(gym.ActionWrapper):\n",
    "    \"\"\"Rescale and relocate the actions.\"\"\"\n",
    "\n",
    "    def action(self, action: np.ndarray) -> np.ndarray:\n",
    "        \"\"\"Change the range (-1, 1) to (low, high).\"\"\"\n",
    "        low = self.action_space.low\n",
    "        high = self.action_space.high\n",
    "\n",
    "        scale_factor = (high - low) / 2\n",
    "        reloc_factor = high - scale_factor\n",
    "\n",
    "        action = action * scale_factor + reloc_factor\n",
    "        action = np.clip(action, low, high)\n",
    "\n",
    "        return action\n",
    "\n",
    "    def reverse_action(self, action: np.ndarray) -> np.ndarray:\n",
    "        \"\"\"Change the range (low, high) to (-1, 1).\"\"\"\n",
    "        low = self.action_space.low\n",
    "        high = self.action_space.high\n",
    "\n",
    "        scale_factor = (high - low) / 2\n",
    "        reloc_factor = high - scale_factor\n",
    "\n",
    "        action = (action - reloc_factor) / scale_factor\n",
    "        action = np.clip(action, -1.0, 1.0)\n",
    "\n",
    "        return action"
   ]
  },
  {
   "cell_type": "code",
   "execution_count": 31,
   "id": "84fb0ae0",
   "metadata": {
    "execution": {
     "iopub.execute_input": "2024-06-19T08:18:39.037319Z",
     "iopub.status.busy": "2024-06-19T08:18:39.036210Z",
     "iopub.status.idle": "2024-06-19T08:18:39.044358Z",
     "shell.execute_reply": "2024-06-19T08:18:39.043178Z"
    },
    "papermill": {
     "duration": 0.057358,
     "end_time": "2024-06-19T08:18:39.046870",
     "exception": false,
     "start_time": "2024-06-19T08:18:38.989512",
     "status": "completed"
    },
    "tags": []
   },
   "outputs": [],
   "source": [
    "# environment\n",
    "env_id = \"Pendulum-v1\"\n",
    "env = gym.make(env_id, render_mode=\"rgb_array\")\n",
    "env = ActionNormalizer(env)"
   ]
  },
  {
   "cell_type": "markdown",
   "id": "ec52662b",
   "metadata": {
    "papermill": {
     "duration": 0.044431,
     "end_time": "2024-06-19T08:18:39.136302",
     "exception": false,
     "start_time": "2024-06-19T08:18:39.091871",
     "status": "completed"
    },
    "tags": []
   },
   "source": [
    "## Initialize\n",
    "We make the demonstration using the well-trained agent in advance. (The given demo.pkl is created transitions using *03.DDPG* agent.)"
   ]
  },
  {
   "cell_type": "code",
   "execution_count": 32,
   "id": "b5051cf2",
   "metadata": {
    "execution": {
     "iopub.execute_input": "2024-06-19T08:18:39.228917Z",
     "iopub.status.busy": "2024-06-19T08:18:39.228470Z",
     "iopub.status.idle": "2024-06-19T08:18:39.245024Z",
     "shell.execute_reply": "2024-06-19T08:18:39.243718Z"
    },
    "papermill": {
     "duration": 0.065594,
     "end_time": "2024-06-19T08:18:39.247602",
     "exception": false,
     "start_time": "2024-06-19T08:18:39.182008",
     "status": "completed"
    },
    "tags": []
   },
   "outputs": [],
   "source": [
    "import pickle\n",
    "\n",
    "# load demo on replay memory\n",
    "demo_path = \"demo.pkl\"\n",
    "with open(demo_path, \"rb\") as f:\n",
    "    demo = pickle.load(f)"
   ]
  },
  {
   "cell_type": "code",
   "execution_count": 33,
   "id": "5d0576fe",
   "metadata": {
    "execution": {
     "iopub.execute_input": "2024-06-19T08:18:39.339487Z",
     "iopub.status.busy": "2024-06-19T08:18:39.339050Z",
     "iopub.status.idle": "2024-06-19T08:18:39.429105Z",
     "shell.execute_reply": "2024-06-19T08:18:39.427798Z"
    },
    "papermill": {
     "duration": 0.13967,
     "end_time": "2024-06-19T08:18:39.432082",
     "exception": false,
     "start_time": "2024-06-19T08:18:39.292412",
     "status": "completed"
    },
    "tags": []
   },
   "outputs": [
    {
     "name": "stdout",
     "output_type": "stream",
     "text": [
      "cpu\n"
     ]
    },
    {
     "name": "stderr",
     "output_type": "stream",
     "text": [
      "/tmp/ipykernel_18/3481442492.py:30: DeprecationWarning: Conversion of an array with ndim > 0 to a scalar is deprecated, and will error in future. Ensure you extract a single element from your array before performing this operation. (Deprecated NumPy 1.25.)\n",
      "  self.acts_buf[ptr] = np.array(action)\n"
     ]
    }
   ],
   "source": [
    "# parameters\n",
    "num_frames = 50000\n",
    "memory_size = 100000\n",
    "batch_size = 128\n",
    "ou_noise_theta = 1.0\n",
    "ou_noise_sigma = 0.1\n",
    "initial_random_steps = 10000\n",
    "n_step = 3\n",
    "pretrain_step = 1000\n",
    "\n",
    "agent = DDPGfDAgent(\n",
    "    env, \n",
    "    memory_size, \n",
    "    batch_size,\n",
    "    ou_noise_theta,\n",
    "    ou_noise_sigma,\n",
    "    demo,\n",
    "    n_step=n_step,\n",
    "    pretrain_step=pretrain_step,\n",
    "    initial_random_steps=initial_random_steps,\n",
    ")"
   ]
  },
  {
   "cell_type": "markdown",
   "id": "a4ebab0e",
   "metadata": {
    "papermill": {
     "duration": 0.044767,
     "end_time": "2024-06-19T08:18:39.521949",
     "exception": false,
     "start_time": "2024-06-19T08:18:39.477182",
     "status": "completed"
    },
    "tags": []
   },
   "source": [
    "# Train DDPGfD Agent"
   ]
  },
  {
   "cell_type": "code",
   "execution_count": 34,
   "id": "6f17e71b",
   "metadata": {
    "execution": {
     "iopub.execute_input": "2024-06-19T08:18:39.615062Z",
     "iopub.status.busy": "2024-06-19T08:18:39.614645Z",
     "iopub.status.idle": "2024-06-19T08:45:09.423798Z",
     "shell.execute_reply": "2024-06-19T08:45:09.422425Z"
    },
    "papermill": {
     "duration": 1589.858935,
     "end_time": "2024-06-19T08:45:09.426681",
     "exception": false,
     "start_time": "2024-06-19T08:18:39.567746",
     "status": "completed"
    },
    "tags": []
   },
   "outputs": [
    {
     "data": {
      "image/png": "[encoded data removed]",
      "text/plain": [
       "<Figure size 3000x500 with 4 Axes>"
      ]
     },
     "metadata": {},
     "output_type": "display_data"
    }
   ],
   "source": [
    "agent.train(num_frames)"
   ]
  },
  {
   "cell_type": "markdown",
   "id": "490f9d50",
   "metadata": {
    "papermill": {
     "duration": 0.046138,
     "end_time": "2024-06-19T08:45:09.519618",
     "exception": false,
     "start_time": "2024-06-19T08:45:09.473480",
     "status": "completed"
    },
    "tags": []
   },
   "source": [
    "# Validate DDPGfD Agent\n",
    "Evaluate the trained agent"
   ]
  },
  {
   "cell_type": "code",
   "execution_count": 35,
   "id": "ccb346dc",
   "metadata": {
    "execution": {
     "iopub.execute_input": "2024-06-19T08:45:09.615382Z",
     "iopub.status.busy": "2024-06-19T08:45:09.614924Z",
     "iopub.status.idle": "2024-06-19T08:45:09.625163Z",
     "shell.execute_reply": "2024-06-19T08:45:09.623763Z"
    },
    "papermill": {
     "duration": 0.062111,
     "end_time": "2024-06-19T08:45:09.628122",
     "exception": false,
     "start_time": "2024-06-19T08:45:09.566011",
     "status": "completed"
    },
    "tags": []
   },
   "outputs": [],
   "source": [
    "def evaluate_agent(env, max_steps, n_eval_episodes, agent):\n",
    "  \"\"\"\n",
    "  Evaluate the agent for ``n_eval_episodes`` episodes and returns average reward and std of reward.\n",
    "  :param env: The evaluation environment\n",
    "  :param n_eval_episodes: Number of episode to evaluate the agent\n",
    "  :param policy: The Reinforce agent\n",
    "  \"\"\"\n",
    "  episode_rewards = []\n",
    "  for episode in range(n_eval_episodes):\n",
    "    state, _ = env.reset()\n",
    "    step = 0\n",
    "    done = False\n",
    "    total_rewards_ep = 0\n",
    "\n",
    "    frames = []\n",
    "    \n",
    "    for step in range(max_steps):\n",
    "      frames.append(agent.env.render()) \n",
    "      action = agent.select_action(state)\n",
    "      new_state, reward, done, _, info = env.step(action)\n",
    "      total_rewards_ep += reward\n",
    "\n",
    "      if done:\n",
    "        break\n",
    "      state = new_state\n",
    "    \n",
    "    episode_rewards.append(total_rewards_ep)\n",
    "  mean_reward = np.mean(episode_rewards)\n",
    "  std_reward = np.std(episode_rewards)\n",
    "\n",
    "  return mean_reward, std_reward, frames"
   ]
  },
  {
   "cell_type": "code",
   "execution_count": 36,
   "id": "85bf1a03",
   "metadata": {
    "execution": {
     "iopub.execute_input": "2024-06-19T08:45:09.723140Z",
     "iopub.status.busy": "2024-06-19T08:45:09.722679Z",
     "iopub.status.idle": "2024-06-19T08:45:10.693482Z",
     "shell.execute_reply": "2024-06-19T08:45:10.692089Z"
    },
    "papermill": {
     "duration": 1.022112,
     "end_time": "2024-06-19T08:45:10.696461",
     "exception": false,
     "start_time": "2024-06-19T08:45:09.674349",
     "status": "completed"
    },
    "tags": []
   },
   "outputs": [],
   "source": [
    "agent = torch.load('/kaggle/working/model_fd.pt')"
   ]
  },
  {
   "cell_type": "code",
   "execution_count": 37,
   "id": "f90aea91",
   "metadata": {
    "execution": {
     "iopub.execute_input": "2024-06-19T08:45:10.792618Z",
     "iopub.status.busy": "2024-06-19T08:45:10.792187Z",
     "iopub.status.idle": "2024-06-19T08:46:19.192189Z",
     "shell.execute_reply": "2024-06-19T08:46:19.190761Z"
    },
    "papermill": {
     "duration": 68.496453,
     "end_time": "2024-06-19T08:46:19.240445",
     "exception": false,
     "start_time": "2024-06-19T08:45:10.743992",
     "status": "completed"
    },
    "tags": []
   },
   "outputs": [
    {
     "name": "stdout",
     "output_type": "stream",
     "text": [
      "-2980.717475819714 85.33479233411204\n"
     ]
    }
   ],
   "source": [
    "eval_env = gym.make(env_id, render_mode='rgb_array')\n",
    "mean_reward, std_reward, frames = evaluate_agent(eval_env, 1000, 10, agent)\n",
    "print(mean_reward, std_reward)"
   ]
  },
  {
   "cell_type": "markdown",
   "id": "ce64c6a7",
   "metadata": {
    "papermill": {
     "duration": 0.047477,
     "end_time": "2024-06-19T08:46:19.335665",
     "exception": false,
     "start_time": "2024-06-19T08:46:19.288188",
     "status": "completed"
    },
    "tags": []
   },
   "source": [
    "# Render DDPGfD Agent"
   ]
  },
  {
   "cell_type": "code",
   "execution_count": 38,
   "id": "ebb20de7",
   "metadata": {
    "execution": {
     "iopub.execute_input": "2024-06-19T08:46:19.436270Z",
     "iopub.status.busy": "2024-06-19T08:46:19.435802Z",
     "iopub.status.idle": "2024-06-19T08:46:19.445540Z",
     "shell.execute_reply": "2024-06-19T08:46:19.444265Z"
    },
    "papermill": {
     "duration": 0.063174,
     "end_time": "2024-06-19T08:46:19.448277",
     "exception": false,
     "start_time": "2024-06-19T08:46:19.385103",
     "status": "completed"
    },
    "tags": []
   },
   "outputs": [],
   "source": [
    "def record_video(env, agent, out_directory, fps=30):\n",
    "  \"\"\"\n",
    "  Generate a replay video of the agent\n",
    "  :param env\n",
    "  :param Qtable: Qtable of our agent\n",
    "  :param out_directory\n",
    "  :param fps: how many frame per seconds (with taxi-v3 and frozenlake-v1 we use 1)\n",
    "  \"\"\"\n",
    "\n",
    "  images = []\n",
    "  terminated = False\n",
    "  truncated = False\n",
    "  state, info = env.reset()\n",
    "  img = env.render()\n",
    "  images.append(img)\n",
    "  while not terminated or truncated:\n",
    "    # Take the action (index) that have the maximum expected future reward given that state\n",
    "    action = agent.select_action(state)\n",
    "    state, reward, terminated, truncated, info = env.step(action) # We directly put next_state = state for recording logic\n",
    "    img = env.render()\n",
    "    images.append(img)\n",
    "    if terminated or truncated:\n",
    "        env.reset()\n",
    "        break\n",
    "  env.close()\n",
    "  imageio.mimsave(out_directory, [np.array(img) for i, img in enumerate(images)], fps=fps)"
   ]
  },
  {
   "cell_type": "code",
   "execution_count": 39,
   "id": "054449c5",
   "metadata": {
    "execution": {
     "iopub.execute_input": "2024-06-19T08:46:19.544670Z",
     "iopub.status.busy": "2024-06-19T08:46:19.543619Z",
     "iopub.status.idle": "2024-06-19T08:46:21.722555Z",
     "shell.execute_reply": "2024-06-19T08:46:21.720619Z"
    },
    "papermill": {
     "duration": 2.229964,
     "end_time": "2024-06-19T08:46:21.725645",
     "exception": false,
     "start_time": "2024-06-19T08:46:19.495681",
     "status": "completed"
    },
    "tags": []
   },
   "outputs": [
    {
     "name": "stderr",
     "output_type": "stream",
     "text": [
      "[swscaler @ 0x675ba00] Warning: data is not aligned! This can lead to a speed loss\n"
     ]
    }
   ],
   "source": [
    "record_video(env, agent, \"replay_fd.mp4\", 30)"
   ]
  },
  {
   "cell_type": "code",
   "execution_count": 40,
   "id": "6fbb557e",
   "metadata": {
    "execution": {
     "iopub.execute_input": "2024-06-19T08:46:21.823615Z",
     "iopub.status.busy": "2024-06-19T08:46:21.823128Z",
     "iopub.status.idle": "2024-06-19T08:46:21.835693Z",
     "shell.execute_reply": "2024-06-19T08:46:21.834373Z"
    },
    "papermill": {
     "duration": 0.064647,
     "end_time": "2024-06-19T08:46:21.838066",
     "exception": false,
     "start_time": "2024-06-19T08:46:21.773419",
     "status": "completed"
    },
    "tags": []
   },
   "outputs": [
    {
     "data": {
      "text/html": [
       "\n",
       "    <video width=\"840\" height=\"480\" controls>\n",
       "    <source src=\"data:video/mp4;base64,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\" type=\"video/mp4\">\n",
       "    Your browser does not support the video tag.\n",
       "    </video>"
      ],
      "text/plain": [
       "<IPython.core.display.HTML object>"
      ]
     },
     "execution_count": 40,
     "metadata": {},
     "output_type": "execute_result"
    }
   ],
   "source": [
    "def embed_mp4(filename):\n",
    "    \"\"\"Embeds an mp4 file in the notebook.\"\"\"\n",
    "    video = open(filename,'rb').read()\n",
    "    b64 = base64.b64encode(video)\n",
    "    tag = '''\n",
    "    <video width=\"840\" height=\"480\" controls>\n",
    "    <source src=\"data:video/mp4;base64,{0}\" type=\"video/mp4\">\n",
    "    Your browser does not support the video tag.\n",
    "    </video>'''.format(b64.decode())\n",
    "    return IPython.display.HTML(tag)\n",
    "\n",
    "embed_mp4('/kaggle/working/replay_fd.mp4')"
   ]
  }
 ],
 "metadata": {
  "kaggle": {
   "accelerator": "none",
   "dataSources": [],
   "dockerImageVersionId": 30732,
   "isGpuEnabled": false,
   "isInternetEnabled": true,
   "language": "python",
   "sourceType": "notebook"
  },
  "kernelspec": {
   "display_name": "Python 3",
   "language": "python",
   "name": "python3"
  },
  "language_info": {
   "codemirror_mode": {
    "name": "ipython",
    "version": 3
   },
   "file_extension": ".py",
   "mimetype": "text/x-python",
   "name": "python",
   "nbconvert_exporter": "python",
   "pygments_lexer": "ipython3",
   "version": "3.10.13"
  },
  "papermill": {
   "default_parameters": {},
   "duration": 2456.867608,
   "end_time": "2024-06-19T08:46:24.618316",
   "environment_variables": {},
   "exception": null,
   "input_path": "__notebook__.ipynb",
   "output_path": "__notebook__.ipynb",
   "parameters": {},
   "start_time": "2024-06-19T08:05:27.750708",
   "version": "2.5.0"
  }
 },
 "nbformat": 4,
 "nbformat_minor": 5
}
